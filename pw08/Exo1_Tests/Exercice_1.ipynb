{
 "cells": [
  {
   "cell_type": "markdown",
   "source": [],
   "metadata": {
    "collapsed": false
   },
   "id": "26cc35b059df3997"
  },
  {
   "cell_type": "code",
   "execution_count": 5,
   "id": "5936611318c752fb",
   "metadata": {
    "collapsed": true,
    "ExecuteTime": {
     "end_time": "2024-04-16T18:58:50.601716100Z",
     "start_time": "2024-04-16T18:58:49.669178600Z"
    }
   },
   "outputs": [],
   "source": [
    "import tensorflow as tf\n",
    "from tensorflow.keras.layers import Input, Conv2D, BatchNormalization, Activation, MaxPooling2D, Dropout, Flatten, Dense\n",
    "from tensorflow.keras.models import Model\n",
    "from tensorflow.keras.datasets import cifar10\n",
    "from tensorflow.keras.utils import to_categorical\n",
    "from tensorflow.keras.optimizers import Adam\n"
   ]
  },
  {
   "cell_type": "code",
   "execution_count": 7,
   "outputs": [
    {
     "ename": "AttributeError",
     "evalue": "module 'keras.src.backend' has no attribute 'RandomGenerator'",
     "output_type": "error",
     "traceback": [
      "\u001B[1;31m---------------------------------------------------------------------------\u001B[0m",
      "\u001B[1;31mAttributeError\u001B[0m                            Traceback (most recent call last)",
      "Cell \u001B[1;32mIn[7], line 15\u001B[0m\n\u001B[0;32m     12\u001B[0m \u001B[38;5;28;01mfor\u001B[39;00m _ \u001B[38;5;129;01min\u001B[39;00m \u001B[38;5;28mrange\u001B[39m(\u001B[38;5;241m4\u001B[39m):  \u001B[38;5;66;03m# 4 similar blocks\u001B[39;00m\n\u001B[0;32m     13\u001B[0m     \u001B[38;5;66;03m# Block starts\u001B[39;00m\n\u001B[0;32m     14\u001B[0m     \u001B[38;5;28;01mfor\u001B[39;00m _ \u001B[38;5;129;01min\u001B[39;00m \u001B[38;5;28mrange\u001B[39m(\u001B[38;5;241m3\u001B[39m):  \u001B[38;5;66;03m# Each block has 3 Conv2D → ReLU → BN\u001B[39;00m\n\u001B[1;32m---> 15\u001B[0m         model\u001B[38;5;241m.\u001B[39madd(\u001B[43mConv2D\u001B[49m\u001B[43m(\u001B[49m\u001B[38;5;241;43m64\u001B[39;49m\u001B[43m,\u001B[49m\u001B[43m \u001B[49m\u001B[43m(\u001B[49m\u001B[38;5;241;43m3\u001B[39;49m\u001B[43m,\u001B[49m\u001B[43m \u001B[49m\u001B[38;5;241;43m3\u001B[39;49m\u001B[43m)\u001B[49m\u001B[43m,\u001B[49m\u001B[43m \u001B[49m\u001B[43mpadding\u001B[49m\u001B[38;5;241;43m=\u001B[39;49m\u001B[38;5;124;43m'\u001B[39;49m\u001B[38;5;124;43msame\u001B[39;49m\u001B[38;5;124;43m'\u001B[39;49m\u001B[43m,\u001B[49m\u001B[43m \u001B[49m\u001B[43mstrides\u001B[49m\u001B[38;5;241;43m=\u001B[39;49m\u001B[38;5;241;43m1\u001B[39;49m\u001B[43m)\u001B[49m)\n\u001B[0;32m     16\u001B[0m         model\u001B[38;5;241m.\u001B[39madd(Activation(\u001B[38;5;124m'\u001B[39m\u001B[38;5;124mrelu\u001B[39m\u001B[38;5;124m'\u001B[39m))\n\u001B[0;32m     17\u001B[0m         model\u001B[38;5;241m.\u001B[39madd(BatchNormalization())\n",
      "File \u001B[1;32m~\\anaconda3\\envs\\TSM_DL_2024\\Lib\\site-packages\\keras\\src\\dtensor\\utils.py:96\u001B[0m, in \u001B[0;36mallow_initializer_layout.<locals>._wrap_function\u001B[1;34m(layer_instance, *args, **kwargs)\u001B[0m\n\u001B[0;32m     93\u001B[0m         \u001B[38;5;28;01mif\u001B[39;00m layout:\n\u001B[0;32m     94\u001B[0m             layout_args[variable_name \u001B[38;5;241m+\u001B[39m \u001B[38;5;124m\"\u001B[39m\u001B[38;5;124m_layout\u001B[39m\u001B[38;5;124m\"\u001B[39m] \u001B[38;5;241m=\u001B[39m layout\n\u001B[1;32m---> 96\u001B[0m \u001B[43minit_method\u001B[49m\u001B[43m(\u001B[49m\u001B[43mlayer_instance\u001B[49m\u001B[43m,\u001B[49m\u001B[43m \u001B[49m\u001B[38;5;241;43m*\u001B[39;49m\u001B[43margs\u001B[49m\u001B[43m,\u001B[49m\u001B[43m \u001B[49m\u001B[38;5;241;43m*\u001B[39;49m\u001B[38;5;241;43m*\u001B[39;49m\u001B[43mkwargs\u001B[49m\u001B[43m)\u001B[49m\n\u001B[0;32m     98\u001B[0m \u001B[38;5;66;03m# Inject the layout parameter after the invocation of __init__()\u001B[39;00m\n\u001B[0;32m     99\u001B[0m \u001B[38;5;28;01mfor\u001B[39;00m layout_param_name, layout \u001B[38;5;129;01min\u001B[39;00m layout_args\u001B[38;5;241m.\u001B[39mitems():\n",
      "File \u001B[1;32m~\\anaconda3\\envs\\TSM_DL_2024\\Lib\\site-packages\\keras\\src\\layers\\convolutional\\conv2d.py:190\u001B[0m, in \u001B[0;36mConv2D.__init__\u001B[1;34m(self, filters, kernel_size, strides, padding, data_format, dilation_rate, groups, activation, use_bias, kernel_initializer, bias_initializer, kernel_regularizer, bias_regularizer, activity_regularizer, kernel_constraint, bias_constraint, **kwargs)\u001B[0m\n\u001B[0;32m    158\u001B[0m \u001B[38;5;129m@utils\u001B[39m\u001B[38;5;241m.\u001B[39mallow_initializer_layout\n\u001B[0;32m    159\u001B[0m \u001B[38;5;28;01mdef\u001B[39;00m \u001B[38;5;21m__init__\u001B[39m(\n\u001B[0;32m    160\u001B[0m     \u001B[38;5;28mself\u001B[39m,\n\u001B[1;32m   (...)\u001B[0m\n\u001B[0;32m    177\u001B[0m     \u001B[38;5;241m*\u001B[39m\u001B[38;5;241m*\u001B[39mkwargs\n\u001B[0;32m    178\u001B[0m ):\n\u001B[0;32m    179\u001B[0m     \u001B[38;5;28msuper\u001B[39m()\u001B[38;5;241m.\u001B[39m\u001B[38;5;21m__init__\u001B[39m(\n\u001B[0;32m    180\u001B[0m         rank\u001B[38;5;241m=\u001B[39m\u001B[38;5;241m2\u001B[39m,\n\u001B[0;32m    181\u001B[0m         filters\u001B[38;5;241m=\u001B[39mfilters,\n\u001B[0;32m    182\u001B[0m         kernel_size\u001B[38;5;241m=\u001B[39mkernel_size,\n\u001B[0;32m    183\u001B[0m         strides\u001B[38;5;241m=\u001B[39mstrides,\n\u001B[0;32m    184\u001B[0m         padding\u001B[38;5;241m=\u001B[39mpadding,\n\u001B[0;32m    185\u001B[0m         data_format\u001B[38;5;241m=\u001B[39mdata_format,\n\u001B[0;32m    186\u001B[0m         dilation_rate\u001B[38;5;241m=\u001B[39mdilation_rate,\n\u001B[0;32m    187\u001B[0m         groups\u001B[38;5;241m=\u001B[39mgroups,\n\u001B[0;32m    188\u001B[0m         activation\u001B[38;5;241m=\u001B[39mactivations\u001B[38;5;241m.\u001B[39mget(activation),\n\u001B[0;32m    189\u001B[0m         use_bias\u001B[38;5;241m=\u001B[39muse_bias,\n\u001B[1;32m--> 190\u001B[0m         kernel_initializer\u001B[38;5;241m=\u001B[39m\u001B[43minitializers\u001B[49m\u001B[38;5;241;43m.\u001B[39;49m\u001B[43mget\u001B[49m\u001B[43m(\u001B[49m\u001B[43mkernel_initializer\u001B[49m\u001B[43m)\u001B[49m,\n\u001B[0;32m    191\u001B[0m         bias_initializer\u001B[38;5;241m=\u001B[39minitializers\u001B[38;5;241m.\u001B[39mget(bias_initializer),\n\u001B[0;32m    192\u001B[0m         kernel_regularizer\u001B[38;5;241m=\u001B[39mregularizers\u001B[38;5;241m.\u001B[39mget(kernel_regularizer),\n\u001B[0;32m    193\u001B[0m         bias_regularizer\u001B[38;5;241m=\u001B[39mregularizers\u001B[38;5;241m.\u001B[39mget(bias_regularizer),\n\u001B[0;32m    194\u001B[0m         activity_regularizer\u001B[38;5;241m=\u001B[39mregularizers\u001B[38;5;241m.\u001B[39mget(activity_regularizer),\n\u001B[0;32m    195\u001B[0m         kernel_constraint\u001B[38;5;241m=\u001B[39mconstraints\u001B[38;5;241m.\u001B[39mget(kernel_constraint),\n\u001B[0;32m    196\u001B[0m         bias_constraint\u001B[38;5;241m=\u001B[39mconstraints\u001B[38;5;241m.\u001B[39mget(bias_constraint),\n\u001B[0;32m    197\u001B[0m         \u001B[38;5;241m*\u001B[39m\u001B[38;5;241m*\u001B[39mkwargs\n\u001B[0;32m    198\u001B[0m     )\n",
      "File \u001B[1;32m~\\anaconda3\\envs\\TSM_DL_2024\\Lib\\site-packages\\keras\\src\\initializers\\__init__.py:206\u001B[0m, in \u001B[0;36mget\u001B[1;34m(identifier)\u001B[0m\n\u001B[0;32m    204\u001B[0m \u001B[38;5;28;01melif\u001B[39;00m \u001B[38;5;28misinstance\u001B[39m(identifier, \u001B[38;5;28mstr\u001B[39m):\n\u001B[0;32m    205\u001B[0m     config \u001B[38;5;241m=\u001B[39m {\u001B[38;5;124m\"\u001B[39m\u001B[38;5;124mclass_name\u001B[39m\u001B[38;5;124m\"\u001B[39m: \u001B[38;5;28mstr\u001B[39m(identifier), \u001B[38;5;124m\"\u001B[39m\u001B[38;5;124mconfig\u001B[39m\u001B[38;5;124m\"\u001B[39m: {}}\n\u001B[1;32m--> 206\u001B[0m     \u001B[38;5;28;01mreturn\u001B[39;00m \u001B[43mget\u001B[49m\u001B[43m(\u001B[49m\u001B[43mconfig\u001B[49m\u001B[43m)\u001B[49m\n\u001B[0;32m    207\u001B[0m \u001B[38;5;28;01melif\u001B[39;00m \u001B[38;5;28mcallable\u001B[39m(identifier):\n\u001B[0;32m    208\u001B[0m     \u001B[38;5;28;01mif\u001B[39;00m inspect\u001B[38;5;241m.\u001B[39misclass(identifier):\n",
      "File \u001B[1;32m~\\anaconda3\\envs\\TSM_DL_2024\\Lib\\site-packages\\keras\\src\\initializers\\__init__.py:203\u001B[0m, in \u001B[0;36mget\u001B[1;34m(identifier)\u001B[0m\n\u001B[0;32m    201\u001B[0m \u001B[38;5;28;01mif\u001B[39;00m \u001B[38;5;28misinstance\u001B[39m(identifier, \u001B[38;5;28mdict\u001B[39m):\n\u001B[0;32m    202\u001B[0m     use_legacy_format \u001B[38;5;241m=\u001B[39m \u001B[38;5;124m\"\u001B[39m\u001B[38;5;124mmodule\u001B[39m\u001B[38;5;124m\"\u001B[39m \u001B[38;5;129;01mnot\u001B[39;00m \u001B[38;5;129;01min\u001B[39;00m identifier\n\u001B[1;32m--> 203\u001B[0m     \u001B[38;5;28;01mreturn\u001B[39;00m \u001B[43mdeserialize\u001B[49m\u001B[43m(\u001B[49m\u001B[43midentifier\u001B[49m\u001B[43m,\u001B[49m\u001B[43m \u001B[49m\u001B[43muse_legacy_format\u001B[49m\u001B[38;5;241;43m=\u001B[39;49m\u001B[43muse_legacy_format\u001B[49m\u001B[43m)\u001B[49m\n\u001B[0;32m    204\u001B[0m \u001B[38;5;28;01melif\u001B[39;00m \u001B[38;5;28misinstance\u001B[39m(identifier, \u001B[38;5;28mstr\u001B[39m):\n\u001B[0;32m    205\u001B[0m     config \u001B[38;5;241m=\u001B[39m {\u001B[38;5;124m\"\u001B[39m\u001B[38;5;124mclass_name\u001B[39m\u001B[38;5;124m\"\u001B[39m: \u001B[38;5;28mstr\u001B[39m(identifier), \u001B[38;5;124m\"\u001B[39m\u001B[38;5;124mconfig\u001B[39m\u001B[38;5;124m\"\u001B[39m: {}}\n",
      "File \u001B[1;32m~\\anaconda3\\envs\\TSM_DL_2024\\Lib\\site-packages\\keras\\src\\initializers\\__init__.py:150\u001B[0m, in \u001B[0;36mdeserialize\u001B[1;34m(config, custom_objects, use_legacy_format)\u001B[0m\n\u001B[0;32m    148\u001B[0m populate_deserializable_objects()\n\u001B[0;32m    149\u001B[0m \u001B[38;5;28;01mif\u001B[39;00m use_legacy_format:\n\u001B[1;32m--> 150\u001B[0m     \u001B[38;5;28;01mreturn\u001B[39;00m \u001B[43mlegacy_serialization\u001B[49m\u001B[38;5;241;43m.\u001B[39;49m\u001B[43mdeserialize_keras_object\u001B[49m\u001B[43m(\u001B[49m\n\u001B[0;32m    151\u001B[0m \u001B[43m        \u001B[49m\u001B[43mconfig\u001B[49m\u001B[43m,\u001B[49m\n\u001B[0;32m    152\u001B[0m \u001B[43m        \u001B[49m\u001B[43mmodule_objects\u001B[49m\u001B[38;5;241;43m=\u001B[39;49m\u001B[43mLOCAL\u001B[49m\u001B[38;5;241;43m.\u001B[39;49m\u001B[43mALL_OBJECTS\u001B[49m\u001B[43m,\u001B[49m\n\u001B[0;32m    153\u001B[0m \u001B[43m        \u001B[49m\u001B[43mcustom_objects\u001B[49m\u001B[38;5;241;43m=\u001B[39;49m\u001B[43mcustom_objects\u001B[49m\u001B[43m,\u001B[49m\n\u001B[0;32m    154\u001B[0m \u001B[43m        \u001B[49m\u001B[43mprintable_module_name\u001B[49m\u001B[38;5;241;43m=\u001B[39;49m\u001B[38;5;124;43m\"\u001B[39;49m\u001B[38;5;124;43minitializer\u001B[39;49m\u001B[38;5;124;43m\"\u001B[39;49m\u001B[43m,\u001B[49m\n\u001B[0;32m    155\u001B[0m \u001B[43m    \u001B[49m\u001B[43m)\u001B[49m\n\u001B[0;32m    157\u001B[0m \u001B[38;5;28;01mreturn\u001B[39;00m serialization_lib\u001B[38;5;241m.\u001B[39mdeserialize_keras_object(\n\u001B[0;32m    158\u001B[0m     config,\n\u001B[0;32m    159\u001B[0m     module_objects\u001B[38;5;241m=\u001B[39mLOCAL\u001B[38;5;241m.\u001B[39mALL_OBJECTS,\n\u001B[0;32m    160\u001B[0m     custom_objects\u001B[38;5;241m=\u001B[39mcustom_objects,\n\u001B[0;32m    161\u001B[0m     printable_module_name\u001B[38;5;241m=\u001B[39m\u001B[38;5;124m\"\u001B[39m\u001B[38;5;124minitializer\u001B[39m\u001B[38;5;124m\"\u001B[39m,\n\u001B[0;32m    162\u001B[0m )\n",
      "File \u001B[1;32m~\\anaconda3\\envs\\TSM_DL_2024\\Lib\\site-packages\\keras\\src\\saving\\legacy\\serialization.py:507\u001B[0m, in \u001B[0;36mdeserialize_keras_object\u001B[1;34m(identifier, module_objects, custom_objects, printable_module_name)\u001B[0m\n\u001B[0;32m    505\u001B[0m     \u001B[38;5;28;01melse\u001B[39;00m:\n\u001B[0;32m    506\u001B[0m         \u001B[38;5;28;01mwith\u001B[39;00m object_registration\u001B[38;5;241m.\u001B[39mCustomObjectScope(custom_objects):\n\u001B[1;32m--> 507\u001B[0m             deserialized_obj \u001B[38;5;241m=\u001B[39m \u001B[38;5;28;43mcls\u001B[39;49m\u001B[38;5;241;43m.\u001B[39;49m\u001B[43mfrom_config\u001B[49m\u001B[43m(\u001B[49m\u001B[43mcls_config\u001B[49m\u001B[43m)\u001B[49m\n\u001B[0;32m    508\u001B[0m \u001B[38;5;28;01melse\u001B[39;00m:\n\u001B[0;32m    509\u001B[0m     \u001B[38;5;66;03m# Then `cls` may be a function returning a class.\u001B[39;00m\n\u001B[0;32m    510\u001B[0m     \u001B[38;5;66;03m# in this case by convention `config` holds\u001B[39;00m\n\u001B[0;32m    511\u001B[0m     \u001B[38;5;66;03m# the kwargs of the function.\u001B[39;00m\n\u001B[0;32m    512\u001B[0m     custom_objects \u001B[38;5;241m=\u001B[39m custom_objects \u001B[38;5;129;01mor\u001B[39;00m {}\n",
      "File \u001B[1;32m~\\anaconda3\\envs\\TSM_DL_2024\\Lib\\site-packages\\keras\\src\\initializers\\initializers.py:115\u001B[0m, in \u001B[0;36mInitializer.from_config\u001B[1;34m(cls, config)\u001B[0m\n\u001B[0;32m     98\u001B[0m \u001B[38;5;250m\u001B[39m\u001B[38;5;124;03m\"\"\"Instantiates an initializer from a configuration dictionary.\u001B[39;00m\n\u001B[0;32m     99\u001B[0m \n\u001B[0;32m    100\u001B[0m \u001B[38;5;124;03mExample:\u001B[39;00m\n\u001B[1;32m   (...)\u001B[0m\n\u001B[0;32m    112\u001B[0m \u001B[38;5;124;03m    An `Initializer` instance.\u001B[39;00m\n\u001B[0;32m    113\u001B[0m \u001B[38;5;124;03m\"\"\"\u001B[39;00m\n\u001B[0;32m    114\u001B[0m config\u001B[38;5;241m.\u001B[39mpop(\u001B[38;5;124m\"\u001B[39m\u001B[38;5;124mdtype\u001B[39m\u001B[38;5;124m\"\u001B[39m, \u001B[38;5;28;01mNone\u001B[39;00m)\n\u001B[1;32m--> 115\u001B[0m \u001B[38;5;28;01mreturn\u001B[39;00m \u001B[38;5;28;43mcls\u001B[39;49m\u001B[43m(\u001B[49m\u001B[38;5;241;43m*\u001B[39;49m\u001B[38;5;241;43m*\u001B[39;49m\u001B[43mconfig\u001B[49m\u001B[43m)\u001B[49m\n",
      "File \u001B[1;32m~\\anaconda3\\envs\\TSM_DL_2024\\Lib\\site-packages\\keras\\src\\initializers\\initializers.py:884\u001B[0m, in \u001B[0;36mGlorotUniform.__init__\u001B[1;34m(self, seed)\u001B[0m\n\u001B[0;32m    883\u001B[0m \u001B[38;5;28;01mdef\u001B[39;00m \u001B[38;5;21m__init__\u001B[39m(\u001B[38;5;28mself\u001B[39m, seed\u001B[38;5;241m=\u001B[39m\u001B[38;5;28;01mNone\u001B[39;00m):\n\u001B[1;32m--> 884\u001B[0m     \u001B[38;5;28;43msuper\u001B[39;49m\u001B[43m(\u001B[49m\u001B[43m)\u001B[49m\u001B[38;5;241;43m.\u001B[39;49m\u001B[38;5;21;43m__init__\u001B[39;49m\u001B[43m(\u001B[49m\n\u001B[0;32m    885\u001B[0m \u001B[43m        \u001B[49m\u001B[43mscale\u001B[49m\u001B[38;5;241;43m=\u001B[39;49m\u001B[38;5;241;43m1.0\u001B[39;49m\u001B[43m,\u001B[49m\u001B[43m \u001B[49m\u001B[43mmode\u001B[49m\u001B[38;5;241;43m=\u001B[39;49m\u001B[38;5;124;43m\"\u001B[39;49m\u001B[38;5;124;43mfan_avg\u001B[39;49m\u001B[38;5;124;43m\"\u001B[39;49m\u001B[43m,\u001B[49m\u001B[43m \u001B[49m\u001B[43mdistribution\u001B[49m\u001B[38;5;241;43m=\u001B[39;49m\u001B[38;5;124;43m\"\u001B[39;49m\u001B[38;5;124;43muniform\u001B[39;49m\u001B[38;5;124;43m\"\u001B[39;49m\u001B[43m,\u001B[49m\u001B[43m \u001B[49m\u001B[43mseed\u001B[49m\u001B[38;5;241;43m=\u001B[39;49m\u001B[43mseed\u001B[49m\n\u001B[0;32m    886\u001B[0m \u001B[43m    \u001B[49m\u001B[43m)\u001B[49m\n",
      "File \u001B[1;32m~\\anaconda3\\envs\\TSM_DL_2024\\Lib\\site-packages\\keras\\src\\initializers\\initializers.py:612\u001B[0m, in \u001B[0;36mVarianceScaling.__init__\u001B[1;34m(self, scale, mode, distribution, seed)\u001B[0m\n\u001B[0;32m    610\u001B[0m \u001B[38;5;28mself\u001B[39m\u001B[38;5;241m.\u001B[39mdistribution \u001B[38;5;241m=\u001B[39m distribution\n\u001B[0;32m    611\u001B[0m \u001B[38;5;28mself\u001B[39m\u001B[38;5;241m.\u001B[39mseed \u001B[38;5;241m=\u001B[39m seed\n\u001B[1;32m--> 612\u001B[0m \u001B[38;5;28mself\u001B[39m\u001B[38;5;241m.\u001B[39m_random_generator \u001B[38;5;241m=\u001B[39m \u001B[43mbackend\u001B[49m\u001B[38;5;241;43m.\u001B[39;49m\u001B[43mRandomGenerator\u001B[49m(\n\u001B[0;32m    613\u001B[0m     seed, rng_type\u001B[38;5;241m=\u001B[39m\u001B[38;5;124m\"\u001B[39m\u001B[38;5;124mstateless\u001B[39m\u001B[38;5;124m\"\u001B[39m\n\u001B[0;32m    614\u001B[0m )\n",
      "\u001B[1;31mAttributeError\u001B[0m: module 'keras.src.backend' has no attribute 'RandomGenerator'"
     ]
    }
   ],
   "source": [
    "import tensorflow as tf\n",
    "from tensorflow.keras.models import Sequential\n",
    "from tensorflow.keras.layers import Conv2D, BatchNormalization, Activation, MaxPooling2D, Dropout, Flatten, Dense\n",
    "\n",
    "# Parameters\n",
    "num_classes = 10  # Number of classes in CIFAR-10\n",
    "\n",
    "# Create the Sequential model\n",
    "model = Sequential()\n",
    "\n",
    "# Add the blocks\n",
    "for _ in range(4):  # 4 similar blocks\n",
    "    # Block starts\n",
    "    for _ in range(3):  # Each block has 3 Conv2D → ReLU → BN\n",
    "        model.add(Conv2D(64, (3, 3), padding='same', strides=1))\n",
    "        model.add(Activation('relu'))\n",
    "        model.add(BatchNormalization())\n",
    "    \n",
    "    # MaxPooling and Dropout at the end of each block\n",
    "    model.add(MaxPooling2D(pool_size=(2, 2), strides=2))\n",
    "    model.add(Dropout(0.2))\n",
    "\n",
    "# Flatten the output from the conv blocks\n",
    "model.add(Flatten())\n",
    "\n",
    "# Dense layer with dropout\n",
    "model.add(Dense(256, activation='relu'))\n",
    "model.add(Dropout(0.2))\n",
    "\n",
    "# Output layer\n",
    "model.add(Dense(num_classes, activation='softmax'))\n",
    "\n",
    "# Model summary to check the architecture\n",
    "model.summary()\n",
    "\n",
    "# Compile the model\n",
    "model.compile(optimizer='adam',\n",
    "              loss='categorical_crossentropy',\n",
    "              metrics=['accuracy'])\n"
   ],
   "metadata": {
    "collapsed": false,
    "ExecuteTime": {
     "end_time": "2024-04-16T19:12:01.878086900Z",
     "start_time": "2024-04-16T19:12:01.708620900Z"
    }
   },
   "id": "initial_id"
  }
 ],
 "metadata": {
  "kernelspec": {
   "display_name": "Python 3",
   "language": "python",
   "name": "python3"
  },
  "language_info": {
   "codemirror_mode": {
    "name": "ipython",
    "version": 2
   },
   "file_extension": ".py",
   "mimetype": "text/x-python",
   "name": "python",
   "nbconvert_exporter": "python",
   "pygments_lexer": "ipython2",
   "version": "2.7.6"
  }
 },
 "nbformat": 4,
 "nbformat_minor": 5
}
