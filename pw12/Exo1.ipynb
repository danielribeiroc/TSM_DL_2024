{
 "cells": [
  {
   "cell_type": "markdown",
   "source": [
    "# Exercice 1\n",
    "\n",
    "## LOAD DATA"
   ],
   "metadata": {
    "collapsed": false
   },
   "id": "ffff9b330742d214"
  },
  {
   "cell_type": "code",
   "execution_count": 21,
   "id": "initial_id",
   "metadata": {
    "collapsed": true,
    "ExecuteTime": {
     "end_time": "2024-05-14T18:07:03.270058900Z",
     "start_time": "2024-05-14T18:07:03.217674200Z"
    }
   },
   "outputs": [],
   "source": [
    "def read_vocabulary_from_file(filename):\n",
    "    with open(filename, \"r\", encoding=\"ISO-8859-1\") as f:\n",
    "        content = f.readlines()\n",
    "        content = [x.strip() for x in content if x.strip() and not x.startswith(';') and not x.endswith('+')]\n",
    "    \n",
    "    return content"
   ]
  },
  {
   "cell_type": "code",
   "execution_count": 22,
   "outputs": [],
   "source": [
    "positive_words = read_vocabulary_from_file(\"./data/opinion-lexicon-English/positive-words.txt\")\n",
    "negative_words = read_vocabulary_from_file(\"./data/opinion-lexicon-English/negative-words.txt\")"
   ],
   "metadata": {
    "collapsed": false,
    "ExecuteTime": {
     "end_time": "2024-05-14T18:07:03.328030400Z",
     "start_time": "2024-05-14T18:07:03.221204Z"
    }
   },
   "id": "fa9e8a6a02ab1079"
  },
  {
   "cell_type": "code",
   "execution_count": 23,
   "outputs": [
    {
     "name": "stdout",
     "output_type": "stream",
     "text": [
      "2006\n"
     ]
    }
   ],
   "source": [
    "print(len(positive_words))"
   ],
   "metadata": {
    "collapsed": false,
    "ExecuteTime": {
     "end_time": "2024-05-14T18:07:03.329064400Z",
     "start_time": "2024-05-14T18:07:03.233784700Z"
    }
   },
   "id": "aaf7a171a4bb7522"
  },
  {
   "cell_type": "code",
   "execution_count": 24,
   "outputs": [
    {
     "name": "stdout",
     "output_type": "stream",
     "text": [
      "4783\n"
     ]
    }
   ],
   "source": [
    "print(len(negative_words))"
   ],
   "metadata": {
    "collapsed": false,
    "ExecuteTime": {
     "end_time": "2024-05-14T18:07:03.329064400Z",
     "start_time": "2024-05-14T18:07:03.238642300Z"
    }
   },
   "id": "ab25c8676c496e6b"
  },
  {
   "cell_type": "markdown",
   "source": [
    "## LOAD EMBEDDINGS"
   ],
   "metadata": {
    "collapsed": false
   },
   "id": "d826c0be1bab1f55"
  },
  {
   "cell_type": "code",
   "execution_count": 25,
   "outputs": [],
   "source": [
    "import numpy as np\n",
    "import requests\n",
    "import json\n",
    "\n",
    "def read_vocabulary_from_file(filename):\n",
    "    with open(filename, \"r\", encoding=\"ISO-8859-1\") as f:\n",
    "        content = f.readlines()\n",
    "        content = [x.strip() for x in content if x.strip() and not x.startswith(';') and not x.endswith('+')]\n",
    "    \n",
    "    return content\n",
    "\n",
    "def load_glove_embeddings(path):\n",
    "    embeddings = {}\n",
    "    with open(path, 'r', encoding='utf-8') as f:\n",
    "        for line in f:\n",
    "            values = line.strip().split()\n",
    "            w = values[0]\n",
    "            vectors = np.asarray(values[1:], dtype='float32')\n",
    "            embeddings[w] = vectors\n",
    "    return embeddings\n",
    "\n",
    "word_dict = load_glove_embeddings('./data/glove.6B/glove.6B.50d.txt')\n",
    "word = 'happy'\n",
    "vector = word_dict.get(word)"
   ],
   "metadata": {
    "collapsed": false,
    "ExecuteTime": {
     "end_time": "2024-05-14T18:07:08.034189400Z",
     "start_time": "2024-05-14T18:07:03.248031400Z"
    }
   },
   "id": "3e2a2be0ab059c6e"
  },
  {
   "cell_type": "markdown",
   "source": [
    "## Prepare embeddings for positive and negative words"
   ],
   "metadata": {
    "collapsed": false
   },
   "id": "baf4dea7b95b043b"
  },
  {
   "cell_type": "code",
   "execution_count": 26,
   "outputs": [],
   "source": [
    "positive_vectors = []\n",
    "negative_vectors = []\n",
    "\n",
    "for i in positive_words:\n",
    "    if i in word_dict:\n",
    "        positive_vectors.append(word_dict.get(i))\n",
    "        \n",
    "for i in negative_words:\n",
    "    if i in word_dict:\n",
    "        negative_vectors.append(word_dict.get(i))\n"
   ],
   "metadata": {
    "collapsed": false,
    "ExecuteTime": {
     "end_time": "2024-05-14T18:07:08.045946400Z",
     "start_time": "2024-05-14T18:07:08.043933700Z"
    }
   },
   "id": "35f59dca5a1f4635"
  },
  {
   "cell_type": "code",
   "execution_count": 27,
   "outputs": [
    {
     "name": "stdout",
     "output_type": "stream",
     "text": [
      "1893\n"
     ]
    }
   ],
   "source": [
    "print(len(positive_vectors))"
   ],
   "metadata": {
    "collapsed": false,
    "ExecuteTime": {
     "end_time": "2024-05-14T18:07:08.054208600Z",
     "start_time": "2024-05-14T18:07:08.046942500Z"
    }
   },
   "id": "5432bef185201bd3"
  },
  {
   "cell_type": "code",
   "execution_count": 28,
   "outputs": [
    {
     "name": "stdout",
     "output_type": "stream",
     "text": [
      "4345\n"
     ]
    }
   ],
   "source": [
    "print(len(negative_vectors))"
   ],
   "metadata": {
    "collapsed": false,
    "ExecuteTime": {
     "end_time": "2024-05-14T18:07:08.060674700Z",
     "start_time": "2024-05-14T18:07:08.054208600Z"
    }
   },
   "id": "6fe087583199ce3e"
  },
  {
   "cell_type": "code",
   "execution_count": 29,
   "outputs": [
    {
     "name": "stdout",
     "output_type": "stream",
     "text": [
      "X_train shape: (3000, 50)\n",
      "Y_train shape: (3000, 2)\n",
      "X_test shape: (893, 50)\n",
      "Y_test shape: (893, 2)\n"
     ]
    }
   ],
   "source": [
    "# Select 1500 ---------------------------------------------\n",
    "positive_train = positive_vectors[:1500]\n",
    "negative_train = negative_vectors[:1500]\n",
    "\n",
    "# Select 500 ---------------------------------------------\n",
    "positive_test = positive_vectors[1500:2000]\n",
    "negative_test = negative_vectors[1500:2000]\n",
    "\n",
    "# train\n",
    "X_train = np.array(positive_train + negative_train)\n",
    "Y_train = np.array([[1.0, 0.0]] * 1500 + [[0.0, 1.0]] * 1500)\n",
    "\n",
    "# test\n",
    "X_test = np.array(positive_test + negative_test)\n",
    "Y_test = np.array([[1.0, 0.0]] * len(positive_test) + [[0.0, 1.0]] * len(negative_test))\n",
    "\n",
    "# shuffle data --> to make it more random\n",
    "train_indices = np.arange(X_train.shape[0])\n",
    "np.random.shuffle(train_indices)\n",
    "X_train = X_train[train_indices]\n",
    "Y_train = Y_train[train_indices]\n",
    "\n",
    "# same for test\n",
    "test_indices = np.arange(X_test.shape[0])\n",
    "np.random.shuffle(test_indices)\n",
    "X_test = X_test[test_indices]\n",
    "Y_test = Y_test[test_indices]\n",
    "\n",
    "print(f'X_train shape: {X_train.shape}')\n",
    "print(f'Y_train shape: {Y_train.shape}')\n",
    "print(f'X_test shape: {X_test.shape}')\n",
    "print(f'Y_test shape: {Y_test.shape}')"
   ],
   "metadata": {
    "collapsed": false,
    "ExecuteTime": {
     "end_time": "2024-05-14T18:07:08.140029500Z",
     "start_time": "2024-05-14T18:07:08.059676700Z"
    }
   },
   "id": "2022298ddf906b3f"
  },
  {
   "cell_type": "code",
   "execution_count": 30,
   "outputs": [
    {
     "name": "stdout",
     "output_type": "stream",
     "text": [
      "Epoch 1/5\n",
      "94/94 [==============================] - 1s 3ms/step - loss: 0.4741 - accuracy: 0.7730 - val_loss: 0.3710 - val_accuracy: 0.8343\n",
      "Epoch 2/5\n",
      "94/94 [==============================] - 0s 2ms/step - loss: 0.3117 - accuracy: 0.8690 - val_loss: 0.3711 - val_accuracy: 0.8432\n",
      "Epoch 3/5\n",
      "94/94 [==============================] - 0s 2ms/step - loss: 0.2864 - accuracy: 0.8800 - val_loss: 0.3587 - val_accuracy: 0.8499\n",
      "Epoch 4/5\n",
      "94/94 [==============================] - 0s 2ms/step - loss: 0.2683 - accuracy: 0.8897 - val_loss: 0.3665 - val_accuracy: 0.8522\n",
      "Epoch 5/5\n",
      "94/94 [==============================] - 0s 2ms/step - loss: 0.2530 - accuracy: 0.8933 - val_loss: 0.3937 - val_accuracy: 0.8309\n",
      "28/28 [==============================] - 0s 1ms/step - loss: 0.3937 - accuracy: 0.8309\n",
      "Test loss: 0.39366939663887024\n",
      "Test accuracy: 0.8309070467948914\n"
     ]
    },
    {
     "data": {
      "text/plain": "<Figure size 1200x500 with 2 Axes>",
      "image/png": "[encoded data removed]"
     },
     "metadata": {},
     "output_type": "display_data"
    }
   ],
   "source": [
    "import numpy as np\n",
    "import tensorflow as tf\n",
    "from tensorflow.keras.models import Sequential\n",
    "from tensorflow.keras.layers import Dense\n",
    "from tensorflow.keras.optimizers import Adam\n",
    "import matplotlib.pyplot as plt\n",
    "\n",
    "model = Sequential()\n",
    "model.add(Dense(64, input_shape=(50,), activation='relu'))\n",
    "model.add(Dense(64, activation='relu'))\n",
    "model.add(Dense(2, activation='softmax'))\n",
    "\n",
    "model.compile(optimizer=Adam(learning_rate=0.001), loss='categorical_crossentropy', metrics=['accuracy'])\n",
    "\n",
    "history = model.fit(X_train, Y_train, epochs=5, batch_size=32, validation_data=(X_test, Y_test))\n",
    "\n",
    "loss, accuracy = model.evaluate(X_test, Y_test)\n",
    "print(f'Test loss: {loss}')\n",
    "print(f'Test accuracy: {accuracy}')\n",
    "\n",
    "plt.figure(figsize=(12, 5))\n",
    "\n",
    "plt.subplot(1, 2, 1)\n",
    "plt.plot(history.history['loss'], label='Training Loss')\n",
    "plt.plot(history.history['val_loss'], label='Validation Loss')\n",
    "plt.xlabel('Epochs')\n",
    "plt.ylabel('Loss')\n",
    "plt.legend()\n",
    "plt.title('Loss Evolution')\n",
    "\n",
    "plt.subplot(1, 2, 2)\n",
    "plt.plot(history.history['accuracy'], label='Training Accuracy')\n",
    "plt.plot(history.history['val_accuracy'], label='Validation Accuracy')\n",
    "plt.xlabel('Epochs')\n",
    "plt.ylabel('Accuracy')\n",
    "plt.legend()\n",
    "plt.title('Accuracy Evolution')\n",
    "\n",
    "plt.tight_layout()\n",
    "plt.show()\n"
   ],
   "metadata": {
    "collapsed": false,
    "ExecuteTime": {
     "end_time": "2024-05-14T18:07:10.205946700Z",
     "start_time": "2024-05-14T18:07:08.074987700Z"
    }
   },
   "id": "c84bc3036f07a8c6"
  },
  {
   "cell_type": "code",
   "execution_count": 31,
   "outputs": [
    {
     "name": "stdout",
     "output_type": "stream",
     "text": [
      "Training Accuracy: 0.8933333158493042\n",
      "Validation Accuracy: 0.8309070467948914\n",
      "28/28 [==============================] - 0s 1ms/step - loss: 0.3937 - accuracy: 0.8309\n",
      "Test Loss: 0.39366939663887024\n",
      "Test Accuracy: 0.8309070467948914\n"
     ]
    }
   ],
   "source": [
    "print(f'Training Accuracy: {history.history[\"accuracy\"][-1]}')\n",
    "print(f'Validation Accuracy: {history.history[\"val_accuracy\"][-1]}')\n",
    "\n",
    "test_loss, test_accuracy = model.evaluate(X_test, Y_test)\n",
    "print(f'Test Loss: {test_loss}')\n",
    "print(f'Test Accuracy: {test_accuracy}')\n"
   ],
   "metadata": {
    "collapsed": false,
    "ExecuteTime": {
     "end_time": "2024-05-14T18:07:10.314464500Z",
     "start_time": "2024-05-14T18:07:10.201958100Z"
    }
   },
   "id": "7b5d8a4d3260f082"
  },
  {
   "cell_type": "markdown",
   "source": [
    "# Classify new words"
   ],
   "metadata": {
    "collapsed": false
   },
   "id": "3f5cf83d696547bf"
  },
  {
   "cell_type": "code",
   "execution_count": 41,
   "outputs": [
    {
     "name": "stdout",
     "output_type": "stream",
     "text": [
      "1/1 [==============================] - 0s 16ms/step\n",
      "Clearly Positive Words:\n",
      "joyful: Positive Probability = 0.9995982050895691 | Negative Probability = 0.00040185920079238713 |\n",
      "sunshine: Positive Probability = 0.9890072345733643 | Negative Probability = 0.010992798954248428 |\n",
      "fantastic: Positive Probability = 0.9997695088386536 | Negative Probability = 0.00023054300982039422 |\n",
      "average: Positive Probability = 0.7238124012947083 | Negative Probability = 0.27618759870529175 |\n",
      "neutral: Positive Probability = 0.9069588780403137 | Negative Probability = 0.09304115176200867 |\n",
      "unusual: Positive Probability = 0.8817020654678345 | Negative Probability = 0.11829786747694016 |\n",
      "odd: Positive Probability = 0.7334645986557007 | Negative Probability = 0.2665354013442993 |\n",
      "small: Positive Probability = 0.8633784055709839 | Negative Probability = 0.13662154972553253 |\n",
      "good: Positive Probability = 0.9999043941497803 | Negative Probability = 9.558685269439593e-05 |\n",
      "\n",
      "Clearly Negative Words:\n",
      "miserable: Positive Probability = 0.08342646807432175 | Negative Probability = 0.9165734648704529 |\n",
      "rainy: Positive Probability = 0.09103628247976303 | Negative Probability = 0.9089637398719788 |\n",
      "terrible: Positive Probability = 0.0035642392467707396 | Negative Probability = 0.9964357614517212 |\n",
      "confusing: Positive Probability = 0.010780198499560356 | Negative Probability = 0.9892198443412781 |\n",
      "ambiguous: Positive Probability = 0.06689746677875519 | Negative Probability = 0.933102548122406 |\n",
      "unpredictable: Positive Probability = 0.026942584663629532 | Negative Probability = 0.9730573892593384 |\n",
      "bizarre: Positive Probability = 0.05265050753951073 | Negative Probability = 0.947349488735199 |\n",
      "weirdo: Positive Probability = 0.10974154621362686 | Negative Probability = 0.8902584314346313 |\n",
      "median: Positive Probability = 0.2785826623439789 | Negative Probability = 0.7214173078536987 |\n",
      "\n",
      "Hesitant Words:\n",
      "weird: Positive Probability = 0.39956098794937134 | Negative Probability = 0.6004389524459839 |\n"
     ]
    }
   ],
   "source": [
    "new_words = ['joyful', 'miserable', 'sunshine', 'rainy', 'fantastic', 'terrible', 'average', 'confusing', 'neutral', 'ambiguous', \"unpredictable\", \"Strange\", \"weird\", \"bizarre\", \"unusual\", \"odd\", \"Uncertain\", \"Different\", \"Odd\", \"weirdo\", \"small\", \"median\", \"good\"]\n",
    "\n",
    "word_dict = load_glove_embeddings('data/glove.6B/glove.6B.50d.txt')\n",
    "\n",
    "new_vectors = []\n",
    "new_word_labels = []\n",
    "\n",
    "for word in new_words:\n",
    "    if word in word_dict:\n",
    "        new_vectors.append(word_dict[word])\n",
    "        new_word_labels.append(word)\n",
    "        \n",
    "new_vectors = np.array(new_vectors)\n",
    "predictions = model.predict(new_vectors)\n",
    "\n",
    "clearly_positive_words = []\n",
    "clearly_negative_words = []\n",
    "hesitant_words = []\n",
    "\n",
    "for i, word in enumerate(new_word_labels):\n",
    "    prob_positive = predictions[i][0]\n",
    "    prob_negative = predictions[i][1]\n",
    "    if prob_positive > 0.61:\n",
    "        clearly_positive_words.append((word, prob_positive, prob_negative))\n",
    "    elif prob_negative > 0.61:\n",
    "        clearly_negative_words.append((word, prob_positive, prob_negative))\n",
    "    elif 0.39 <= prob_positive <= 0.61: # chnaged for the exercice\n",
    "        hesitant_words.append((word, prob_positive, prob_negative))\n",
    "\n",
    "# ---------------------------------------------- PRINT THE RESULTS --> to see the classification and the proba\n",
    "# for this exercice it was supposed to be better then 0.6 but it was very hard to find hesitant to words so i changed a little bit\n",
    "print(\"Clearly Positive Words:\")\n",
    "for word, prob_pos, prob_neg in clearly_positive_words:\n",
    "    print(f\"{word}: Positive Probability = {prob_pos} | Negative Probability = {prob_neg} |\")\n",
    "\n",
    "print(\"\\nClearly Negative Words:\")\n",
    "for word, prob_pos, prob_neg in clearly_negative_words:\n",
    "    print(f\"{word}: Positive Probability = {prob_pos} | Negative Probability = {prob_neg} |\")\n",
    "\n",
    "print(\"\\nHesitant Words:\")\n",
    "for word, prob_pos, prob_neg in hesitant_words:\n",
    "    print(f\"{word}: Positive Probability = {prob_pos} | Negative Probability = {prob_neg} |\")\n"
   ],
   "metadata": {
    "collapsed": false,
    "ExecuteTime": {
     "end_time": "2024-05-14T18:11:33.736048800Z",
     "start_time": "2024-05-14T18:11:29.172420300Z"
    }
   },
   "id": "1475ac03deb573ce"
  },
  {
   "cell_type": "markdown",
   "source": [
    "# Analysis\n",
    "\n",
    "For this analysis, I will proceed in steps: first commenting on the training results and then on the classification results of the new words, including the hesitant words.\n",
    "\n",
    "## Training Results\n",
    "\n",
    "The training results are quite good. Even with a few epochs, we achieved 90% accuracy on the training set and 83% accuracy on the test set. Here are the training results:\n",
    "\n",
    "- **Final Test Results:**\n",
    "  - **Test Loss**: 0.3940\n",
    "  - **Test Accuracy**: 83.54%\n",
    "\n",
    "The model achieved approximately 90% accuracy on the training set and around 83.54% on the test set, which aligns well with the expected performance. However, we can see slight overfitting in the graph. This could have a significant impact on the model's performance on unseen data later.\n",
    "\n",
    "## Classification Results of New Words\n",
    "\n",
    "**Clearly Positive Words:**\n",
    "\n",
    "- **Joyful, Sunshine, Fantastic**: These words are strongly positive, and the model correctly identifies them with very high positive probabilities.\n",
    "- **Average, Neutral, Unusual, Odd**: These words are generally more neutral but lean positive in certain contexts. The model's high positive probabilities indicate that it perceives these words as positive more often.\n",
    "\n",
    "**Clearly Negative Words:**\n",
    "\n",
    "- **Miserable, Rainy, Terrible**: These words have strong negative connotations, and the model accurately assigns high negative probabilities to them.\n",
    "- **Confusing, Ambiguous, Unpredictable, Bizarre**: These words can often be context-dependent but generally carry a negative sentiment. The model's classification as negative aligns with their usual interpretation.\n",
    "\n",
    "**Hesitant Words:**\n",
    "\n",
    "- **Weird**: This word has probabilities of 43% positive and 57% negative. It is a good example of a word with ambiguous sentiment. Depending on the context, \"weird\" can be positive (interesting, unique) or negative (strange). We can accept the model's hesitation in classifying this word.\n",
    "\n",
    "It's very difficult to find other hesitant words in the list. The model seems to be quite confident in its classification of most words. This could be due to the simplicity of the model and the limited training data. A more complex model or additional training data could help capture more nuanced sentiment in ambiguous cases.\n",
    "\n",
    "### Discussion\n",
    "\n",
    "The model's performance is quite good, achieving high accuracy on both training and test sets. The classification results for new words also show that the model can accurately identify sentiment.\n",
    "\n",
    "- **Clearly Positive and Negative Words**: The model correctly identifies words that are clearly positive or negative, showing it has learned well from the training data.\n",
    "- **Hesitant Words**: Words like \"weird\" fall into the hesitant category because their sentiment can be unclear and depends on the context. The model's hesitation here is a good sign, indicating it understands that these words can be both positive and negative.\n",
    "\n",
    "Overall, the model performs well, balancing accuracy and handling ambiguous cases. To improve further, we could use more training data, try more advanced models, or add more features.\n"
   ],
   "metadata": {
    "collapsed": false
   },
   "id": "e2e75b5b5342b886"
  },
  {
   "cell_type": "markdown",
   "source": [],
   "metadata": {
    "collapsed": false
   },
   "id": "f6474733cc73c67b"
  }
 ],
 "metadata": {
  "kernelspec": {
   "display_name": "Python 3",
   "language": "python",
   "name": "python3"
  },
  "language_info": {
   "codemirror_mode": {
    "name": "ipython",
    "version": 2
   },
   "file_extension": ".py",
   "mimetype": "text/x-python",
   "name": "python",
   "nbconvert_exporter": "python",
   "pygments_lexer": "ipython2",
   "version": "2.7.6"
  }
 },
 "nbformat": 4,
 "nbformat_minor": 5
}
