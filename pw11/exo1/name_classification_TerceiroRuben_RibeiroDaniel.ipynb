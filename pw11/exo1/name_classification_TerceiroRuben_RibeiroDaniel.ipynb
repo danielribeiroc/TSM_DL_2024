{
 "cells": [
  {
   "cell_type": "code",
   "execution_count": 1,
   "metadata": {
    "ExecuteTime": {
     "end_time": "2024-05-07T13:03:06.527156700Z",
     "start_time": "2024-05-07T13:03:04.333846500Z"
    },
    "scrolled": true
   },
   "outputs": [],
   "source": [
    "import glob\n",
    "import os\n",
    "import string\n",
    "\n",
    "import numpy as np\n",
    "import pandas as pd\n",
    "\n",
    "from matplotlib import pyplot as plt\n",
    "import matplotlib.ticker as ticker\n",
    "\n",
    "from sklearn.metrics import confusion_matrix"
   ]
  },
  {
   "cell_type": "markdown",
   "metadata": {},
   "source": [
    "### Load Data\n",
    "\n",
    "The names can be found in text files in a src directory, one file per language.\n",
    "\n",
    "In the following you can find some utilities to load the data into pandas data frames. \n",
    "\n",
    "We will restrict to some common European languages. \n",
    "\n",
    "With the given selection, we will identify all the occurring characters and initialize an alphabet.<br>\n",
    "For this alphabet, we will use a one-hot-encoding to map them into a vector space representation. \n",
    "\n",
    "Foresee a suitable character for the end of the word, e.g. 'END'."
   ]
  },
  {
   "cell_type": "code",
   "execution_count": 2,
   "metadata": {
    "ExecuteTime": {
     "end_time": "2024-05-07T13:03:06.556588100Z",
     "start_time": "2024-05-07T13:03:06.510976700Z"
    }
   },
   "outputs": [],
   "source": [
    "srcdir = 'data/names'\n",
    "languages = [\"English\",\"French\",\"Italian\",\"German\",\"Spanish\"]"
   ]
  },
  {
   "cell_type": "code",
   "execution_count": 3,
   "metadata": {
    "ExecuteTime": {
     "end_time": "2024-05-07T13:03:06.559584300Z",
     "start_time": "2024-05-07T13:03:06.516304100Z"
    }
   },
   "outputs": [],
   "source": [
    "# inspect the data directory\n",
    "def findFiles(path): \n",
    "    return glob.glob(path)"
   ]
  },
  {
   "cell_type": "code",
   "execution_count": 4,
   "metadata": {
    "ExecuteTime": {
     "end_time": "2024-05-07T13:03:08.383725900Z",
     "start_time": "2024-05-07T13:03:08.345984900Z"
    }
   },
   "outputs": [
    {
     "name": "stdout",
     "output_type": "stream",
     "text": [
      "data/names\\Arabic.txt\n",
      "data/names\\Chinese.txt\n",
      "data/names\\Czech.txt\n",
      "data/names\\Dutch.txt\n",
      "data/names\\English.txt\n",
      "data/names\\French.txt\n",
      "data/names\\German.txt\n",
      "data/names\\Greek.txt\n",
      "data/names\\Irish.txt\n",
      "data/names\\Italian.txt\n",
      "data/names\\Japanese.txt\n",
      "data/names\\Korean.txt\n",
      "data/names\\Polish.txt\n",
      "data/names\\Portuguese.txt\n",
      "data/names\\Russian.txt\n",
      "data/names\\Scottish.txt\n",
      "data/names\\Spanish.txt\n",
      "data/names\\Vietnamese.txt\n"
     ]
    }
   ],
   "source": [
    "print('\\n'.join(findFiles(os.path.join(srcdir,'*.txt'))))"
   ]
  },
  {
   "cell_type": "code",
   "execution_count": 5,
   "metadata": {
    "ExecuteTime": {
     "end_time": "2024-05-07T13:03:11.546690400Z",
     "start_time": "2024-05-07T13:03:11.518584200Z"
    }
   },
   "outputs": [],
   "source": [
    "# Read a file and split into lines\n",
    "def readLines(filename):\n",
    "    lines = open(filename, encoding='utf-8').read().strip().split('\\n')\n",
    "    return lines\n",
    "\n",
    "def load_data(srcdir, categories=None):\n",
    "    names_list = []\n",
    "    for filename in findFiles(os.path.join(srcdir,'*.txt')):\n",
    "        category = os.path.splitext(os.path.basename(filename))[0]\n",
    "        if not categories or category in categories: \n",
    "            names = readLines(filename)\n",
    "            names_list.extend([(name,category) for name in names])\n",
    "    df = pd.DataFrame(names_list)\n",
    "    df.columns = [\"name\",\"lang\"]\n",
    "    return df"
   ]
  },
  {
   "cell_type": "code",
   "execution_count": 6,
   "metadata": {
    "ExecuteTime": {
     "end_time": "2024-05-07T13:03:12.567753700Z",
     "start_time": "2024-05-07T13:03:12.494157600Z"
    }
   },
   "outputs": [
    {
     "data": {
      "text/html": [
       "<div>\n",
       "<style scoped>\n",
       "    .dataframe tbody tr th:only-of-type {\n",
       "        vertical-align: middle;\n",
       "    }\n",
       "\n",
       "    .dataframe tbody tr th {\n",
       "        vertical-align: top;\n",
       "    }\n",
       "\n",
       "    .dataframe thead th {\n",
       "        text-align: right;\n",
       "    }\n",
       "</style>\n",
       "<table border=\"1\" class=\"dataframe\">\n",
       "  <thead>\n",
       "    <tr style=\"text-align: right;\">\n",
       "      <th></th>\n",
       "      <th>name</th>\n",
       "      <th>lang</th>\n",
       "    </tr>\n",
       "  </thead>\n",
       "  <tbody>\n",
       "    <tr>\n",
       "      <th>0</th>\n",
       "      <td>Abbas</td>\n",
       "      <td>English</td>\n",
       "    </tr>\n",
       "    <tr>\n",
       "      <th>1</th>\n",
       "      <td>Abbey</td>\n",
       "      <td>English</td>\n",
       "    </tr>\n",
       "    <tr>\n",
       "      <th>2</th>\n",
       "      <td>Abbott</td>\n",
       "      <td>English</td>\n",
       "    </tr>\n",
       "    <tr>\n",
       "      <th>3</th>\n",
       "      <td>Abdi</td>\n",
       "      <td>English</td>\n",
       "    </tr>\n",
       "    <tr>\n",
       "      <th>4</th>\n",
       "      <td>Abel</td>\n",
       "      <td>English</td>\n",
       "    </tr>\n",
       "  </tbody>\n",
       "</table>\n",
       "</div>"
      ],
      "text/plain": [
       "     name     lang\n",
       "0   Abbas  English\n",
       "1   Abbey  English\n",
       "2  Abbott  English\n",
       "3    Abdi  English\n",
       "4    Abel  English"
      ]
     },
     "execution_count": 6,
     "metadata": {},
     "output_type": "execute_result"
    }
   ],
   "source": [
    "names = load_data(srcdir,categories=languages)\n",
    "names.head()"
   ]
  },
  {
   "cell_type": "code",
   "execution_count": 7,
   "metadata": {
    "ExecuteTime": {
     "end_time": "2024-05-07T13:03:14.149966600Z",
     "start_time": "2024-05-07T13:03:14.124032Z"
    }
   },
   "outputs": [
    {
     "name": "stdout",
     "output_type": "stream",
     "text": [
      "Maximum name length:  18\n"
     ]
    }
   ],
   "source": [
    "maxlen = np.max([len(name) for name in names.name])\n",
    "print(\"Maximum name length: \", maxlen)"
   ]
  },
  {
   "cell_type": "code",
   "execution_count": 8,
   "metadata": {
    "ExecuteTime": {
     "end_time": "2024-05-07T13:03:15.534683600Z",
     "start_time": "2024-05-07T13:03:15.490039900Z"
    }
   },
   "outputs": [
    {
     "name": "stdout",
     "output_type": "stream",
     "text": [
      "Size of alphabet:  74\n",
      "[' ', \"'\", 'A', 'B', 'C', 'D', 'E', 'F', 'G', 'H', 'I', 'J', 'K', 'L', 'M', 'N', 'O', 'P', 'Q', 'R', 'S', 'T', 'U', 'V', 'W', 'X', 'Y', 'Z', 'a', 'b', 'c', 'd', 'e', 'f', 'g', 'h', 'i', 'j', 'k', 'l', 'm', 'n', 'o', 'p', 'q', 'r', 's', 't', 'u', 'v', 'w', 'x', 'y', 'z', 'Á', 'É', 'ß', 'à', 'á', 'ä', 'ç', 'è', 'é', 'ê', 'ì', 'í', 'ñ', 'ò', 'ó', 'ö', 'ù', 'ú', 'ü', 'END']\n"
     ]
    }
   ],
   "source": [
    "alphabet = sorted(list(set(''.join([name for name in names.name]))))\n",
    "alphabet.append('END')\n",
    "len_alphabet = len(alphabet)\n",
    "char_index = dict((c, i) for i, c in enumerate(alphabet))\n",
    "print(\"Size of alphabet: \",len_alphabet)\n",
    "print(alphabet)"
   ]
  },
  {
   "cell_type": "code",
   "execution_count": 9,
   "metadata": {
    "ExecuteTime": {
     "end_time": "2024-05-07T13:03:17.243804300Z",
     "start_time": "2024-05-07T13:03:17.229098500Z"
    }
   },
   "outputs": [
    {
     "data": {
      "text/plain": [
       "lang\n",
       "English    0.646230\n",
       "French     0.048802\n",
       "German     0.127555\n",
       "Italian    0.124912\n",
       "Spanish    0.052502\n",
       "Name: name, dtype: float64"
      ]
     },
     "execution_count": 9,
     "metadata": {},
     "output_type": "execute_result"
    }
   ],
   "source": [
    "names.groupby('lang')['name'].count()/len(names)"
   ]
  },
  {
   "cell_type": "markdown",
   "metadata": {},
   "source": [
    "### Vector Representations\n",
    "\n",
    "Now construct the vector representation by using one-hot-vectors. "
   ]
  },
  {
   "cell_type": "code",
   "execution_count": 10,
   "metadata": {
    "ExecuteTime": {
     "end_time": "2024-05-07T13:03:18.815189500Z",
     "start_time": "2024-05-07T13:03:18.787745600Z"
    }
   },
   "outputs": [],
   "source": [
    "language_to_index = {country:index for index,country in enumerate(names.lang.unique())}\n",
    "index_to_language = {index:country for index,country in enumerate(names.lang.unique())}\n",
    "\n",
    "def onehot(i, length):\n",
    "    v = np.zeros(length);\n",
    "    v[i] = 1\n",
    "    return v\n",
    "\n",
    "def name_representation(name, maxlen):\n",
    "    ### START YOUR CODE\n",
    "    name_trunc = str(name)[0:maxlen]\n",
    "    size = len(char_index)\n",
    "    vector = [onehot(char_index[j], size) for j in str(name)]\n",
    "    # fill the rest with \n",
    "    for k in range(0,maxlen - len(str(name))):\n",
    "        vector.append(onehot(char_index['END'], size))\n",
    "    return vector\n",
    "    ### START YOUR CODE\n",
    "\n",
    "def lang_representation(language, language_to_index):\n",
    "    y = np.zeros(len(language_to_index))\n",
    "    y[language_to_index[language]]=1\n",
    "    return y\n",
    "\n",
    "def lang_from_output(score):\n",
    "    return index_to_language[np.argmax(score)]\n",
    "\n",
    "def predict(name, model):\n",
    "    score = model.predict(np.array([name_representation(name, maxlen)]))[0]\n",
    "    return lang_from_output(score)"
   ]
  },
  {
   "cell_type": "markdown",
   "metadata": {},
   "source": [
    "### Prepare train/test\n",
    "\n",
    "Split the data into train/test\n",
    "\n",
    "Shuffle the data\n",
    "\n",
    "Transform the names data into a suitable vector respresentation:\n",
    "* names into numpy arrays of shape (*,maxlen,len_alphabet)\n",
    "* language into numpy array of shape (*,len(languages))\n",
    "\n"
   ]
  },
  {
   "cell_type": "code",
   "execution_count": 11,
   "metadata": {
    "ExecuteTime": {
     "end_time": "2024-05-07T13:12:07.596002Z",
     "start_time": "2024-05-07T13:12:07.545438100Z"
    }
   },
   "outputs": [
    {
     "name": "stdout",
     "output_type": "stream",
     "text": [
      "Training data size: 4540\n",
      "Testing data size: 1136\n"
     ]
    }
   ],
   "source": [
    "test_split = 0.2\n",
    "from sklearn.model_selection import train_test_split\n",
    "\n",
    "### START YOUR CODE\n",
    "# Shuffle and split names data into train and test\n",
    "train, test = train_test_split(names, test_size=test_split, random_state=42)\n",
    "\n",
    "print(f\"Training data size: {len(train)}\")\n",
    "print(f\"Testing data size: {len(test)}\")\n",
    "### END YOUR CODE"
   ]
  },
  {
   "cell_type": "code",
   "execution_count": 14,
   "metadata": {
    "ExecuteTime": {
     "end_time": "2024-05-07T13:14:07.305397800Z",
     "start_time": "2024-05-07T13:14:06.884500800Z"
    }
   },
   "outputs": [],
   "source": [
    "### START YOUR CODE\n",
    "\n",
    "# Map train and test data into vector space (one-hot-vectors)\n",
    "def transform_data(df, maxlen, char_index, language_to_index):\n",
    "    X = np.zeros((len(df), maxlen, len(char_index)), dtype=np.float32) # create a matrix of zeros with the shape of the data --> optional but still interesting\n",
    "    Y = np.zeros((len(df), len(language_to_index)), dtype=np.float32)\n",
    "    \n",
    "    for idx, (index, row) in enumerate(df.iterrows()):\n",
    "        X[idx] = name_representation(row['name'], maxlen) # use fonctions above --> i think the functions are correct\n",
    "        Y[idx] = lang_representation(row['lang'], language_to_index) # same for here \n",
    "    \n",
    "    return X, Y\n",
    "\n",
    "train.reset_index(drop=True, inplace=True) # reset index to avoid problems\n",
    "test.reset_index(drop=True, inplace=True) # reset index to avoid problems\n",
    "\n",
    "X_train, Y_train = transform_data(train, maxlen, char_index, language_to_index)\n",
    "X_test, Y_test = transform_data(test, maxlen, char_index, language_to_index)\n",
    "### END YOUR CODE"
   ]
  },
  {
   "cell_type": "code",
   "execution_count": 15,
   "outputs": [
    {
     "name": "stdout",
     "output_type": "stream",
     "text": [
      "X_train shape: (4540, 18, 74)\n",
      "Y_train shape: (4540, 5)\n",
      "X_test shape: (1136, 18, 74)\n",
      "Y_test shape: (1136, 5)\n"
     ]
    }
   ],
   "source": [
    "print(\"X_train shape:\", X_train.shape)\n",
    "print(\"Y_train shape:\", Y_train.shape)\n",
    "print(\"X_test shape:\", X_test.shape)\n",
    "print(\"Y_test shape:\", Y_test.shape)"
   ],
   "metadata": {
    "collapsed": false,
    "ExecuteTime": {
     "end_time": "2024-05-07T13:14:17.653602500Z",
     "start_time": "2024-05-07T13:14:17.620084200Z"
    }
   }
  },
  {
   "cell_type": "markdown",
   "metadata": {},
   "source": [
    "### Utilities"
   ]
  },
  {
   "cell_type": "code",
   "execution_count": 16,
   "metadata": {
    "ExecuteTime": {
     "end_time": "2024-05-07T13:22:41.530913Z",
     "start_time": "2024-05-07T13:22:41.511713Z"
    }
   },
   "outputs": [],
   "source": [
    "def performance_plots(model, X_test, Y_test, log, epochs):    \n",
    "    acc = log.history['accuracy']\n",
    "    val_acc = log.history['val_accuracy']\n",
    "    print('Train accuracy (end):', acc[-1])\n",
    "    print('Train accuracy (max):', np.max(acc))\n",
    "    print('Test accuracy (end) :', val_acc[-1])\n",
    "    print('Test accuracy (max) :', np.max(val_acc))\n",
    "\n",
    "    plt.plot(log.history['accuracy'])\n",
    "    plt.plot(log.history['val_accuracy'])\n",
    "    plt.title('model accuracy')\n",
    "    plt.ylabel('accuracy')\n",
    "    plt.xlabel('epoch')\n",
    "    plt.legend(['train','test'], loc='upper left')\n",
    "    plt.axis([0,epochs,0.0,1.0])\n",
    "    plt.show()\n",
    "\n",
    "    plt.plot(log.history['loss'])\n",
    "    plt.plot(log.history['val_loss'])\n",
    "    plt.title('model loss')\n",
    "    plt.ylabel('loss')\n",
    "    plt.xlabel('epoch')\n",
    "    plt.legend(['train','test'], loc = 'upper left')\n",
    "    plt.axis([0,epochs,0.0,2.0])\n",
    "    plt.show()"
   ]
  },
  {
   "cell_type": "code",
   "execution_count": 17,
   "metadata": {
    "ExecuteTime": {
     "end_time": "2024-05-07T13:22:42.803250400Z",
     "start_time": "2024-05-07T13:22:42.785613900Z"
    }
   },
   "outputs": [],
   "source": [
    "import sklearn\n",
    "import pandas as pd\n",
    "\n",
    "def confusion_matrix(model, X_test, Y_test):\n",
    "    scores = model.predict(X_test)\n",
    "    predictions = np.argmax(scores, axis=1)\n",
    "    labels = np.argmax(Y_test, axis=1)\n",
    "    nsamples = Y_test.shape[0]\n",
    "    cm = sklearn.metrics.confusion_matrix(labels, predictions)\n",
    "    df = pd.DataFrame({languages[i] : cm[:,i] for i in range(len(languages))}, languages)\n",
    "    return df, cm"
   ]
  },
  {
   "cell_type": "markdown",
   "metadata": {},
   "source": [
    "### Define and Train Model: Single Layer with SimpleRNN\n",
    "\n",
    "Create an RNN consisting of a single layer with a SimpleRNN (keras) and a softmax.\n",
    "\n",
    "Then train the model. Play with different number of hidden units in the layer to obtain a good accuracy."
   ]
  },
  {
   "cell_type": "code",
   "execution_count": 19,
   "metadata": {
    "tags": [],
    "ExecuteTime": {
     "end_time": "2024-05-07T13:25:02.395365500Z",
     "start_time": "2024-05-07T13:25:02.291831900Z"
    }
   },
   "outputs": [
    {
     "name": "stdout",
     "output_type": "stream",
     "text": [
      "Model: \"sequential_1\"\n",
      "_________________________________________________________________\n",
      " Layer (type)                Output Shape              Param #   \n",
      "=================================================================\n",
      " simple_rnn_1 (SimpleRNN)    (None, 128)               25984     \n",
      "                                                                 \n",
      " dense_1 (Dense)             (None, 5)                 645       \n",
      "                                                                 \n",
      "=================================================================\n",
      "Total params: 26629 (104.02 KB)\n",
      "Trainable params: 26629 (104.02 KB)\n",
      "Non-trainable params: 0 (0.00 Byte)\n",
      "_________________________________________________________________\n"
     ]
    }
   ],
   "source": [
    "### START YOUR CODE\n",
    "from tensorflow.keras.layers import SimpleRNN, Dense\n",
    "from tensorflow.keras.models import Sequential\n",
    "\n",
    "# SImpleRNN, single layer with tf.keras....\n",
    "\n",
    "model = Sequential([\n",
    "    SimpleRNN(units=128, input_shape=(maxlen, len(char_index)), activation='tanh'),\n",
    "    Dense(len(language_to_index), activation='softmax')\n",
    "])\n",
    "model.compile(optimizer='adam', loss='categorical_crossentropy', metrics=['accuracy'])\n",
    "\n",
    "model.summary()\n",
    "\n",
    "### END YOUR CODE"
   ]
  },
  {
   "cell_type": "code",
   "execution_count": 21,
   "metadata": {
    "ExecuteTime": {
     "end_time": "2024-05-07T13:25:37.179094300Z",
     "start_time": "2024-05-07T13:25:31.778162400Z"
    }
   },
   "outputs": [
    {
     "name": "stdout",
     "output_type": "stream",
     "text": [
      "Epoch 1/10\n",
      "71/71 [==============================] - 2s 9ms/step - loss: 0.9974 - accuracy: 0.6716 - val_loss: 0.9021 - val_accuracy: 0.6831\n",
      "Epoch 2/10\n",
      "71/71 [==============================] - 0s 5ms/step - loss: 0.7918 - accuracy: 0.7216 - val_loss: 0.7773 - val_accuracy: 0.6998\n",
      "Epoch 3/10\n",
      "71/71 [==============================] - 0s 5ms/step - loss: 0.7277 - accuracy: 0.7339 - val_loss: 0.7638 - val_accuracy: 0.7368\n",
      "Epoch 4/10\n",
      "71/71 [==============================] - 0s 5ms/step - loss: 0.6949 - accuracy: 0.7509 - val_loss: 0.7041 - val_accuracy: 0.7465\n",
      "Epoch 5/10\n",
      "71/71 [==============================] - 0s 5ms/step - loss: 0.6538 - accuracy: 0.7676 - val_loss: 0.7127 - val_accuracy: 0.7430\n",
      "Epoch 6/10\n",
      "71/71 [==============================] - 0s 5ms/step - loss: 0.6349 - accuracy: 0.7685 - val_loss: 0.7194 - val_accuracy: 0.7245\n",
      "Epoch 7/10\n",
      "71/71 [==============================] - 0s 5ms/step - loss: 0.6118 - accuracy: 0.7804 - val_loss: 0.6621 - val_accuracy: 0.7553\n",
      "Epoch 8/10\n",
      "71/71 [==============================] - 0s 5ms/step - loss: 0.5709 - accuracy: 0.7954 - val_loss: 0.6701 - val_accuracy: 0.7553\n",
      "Epoch 9/10\n",
      "71/71 [==============================] - 0s 5ms/step - loss: 0.5399 - accuracy: 0.8020 - val_loss: 0.7108 - val_accuracy: 0.7482\n",
      "Epoch 10/10\n",
      "71/71 [==============================] - 0s 6ms/step - loss: 0.5250 - accuracy: 0.8068 - val_loss: 0.6504 - val_accuracy: 0.7658\n"
     ]
    }
   ],
   "source": [
    "### START YOUR CODE\n",
    "batch_size= 64\n",
    "nepochs = 10\n",
    "log = model.fit(X_train, Y_train, batch_size=batch_size, epochs=nepochs, validation_data=(X_test, Y_test))\n",
    "\n",
    "\n",
    "### END YOUR CODE"
   ]
  },
  {
   "cell_type": "code",
   "execution_count": 22,
   "metadata": {
    "ExecuteTime": {
     "end_time": "2024-05-07T13:25:40.249355Z",
     "start_time": "2024-05-07T13:25:39.606726800Z"
    }
   },
   "outputs": [
    {
     "name": "stdout",
     "output_type": "stream",
     "text": [
      "Train accuracy (end): 0.8068282008171082\n",
      "Train accuracy (max): 0.8068282008171082\n",
      "Test accuracy (end) : 0.7658450603485107\n",
      "Test accuracy (max) : 0.7658450603485107\n"
     ]
    },
    {
     "data": {
      "text/plain": "<Figure size 640x480 with 1 Axes>",
      "image/png": "[encoded data removed]"
     },
     "metadata": {},
     "output_type": "display_data"
    },
    {
     "data": {
      "text/plain": "<Figure size 640x480 with 1 Axes>",
      "image/png": "[encoded data removed]"
     },
     "metadata": {},
     "output_type": "display_data"
    },
    {
     "name": "stdout",
     "output_type": "stream",
     "text": [
      "36/36 [==============================] - 0s 2ms/step\n"
     ]
    },
    {
     "data": {
      "text/plain": "         English  French  Italian  German  Spanish\nEnglish      663       3       28      21        9\nFrench        33       5        9      13        1\nItalian       59       4       78       3        3\nGerman        18       4        1     107       15\nSpanish       12       2        4      24       17",
      "text/html": "<div>\n<style scoped>\n    .dataframe tbody tr th:only-of-type {\n        vertical-align: middle;\n    }\n\n    .dataframe tbody tr th {\n        vertical-align: top;\n    }\n\n    .dataframe thead th {\n        text-align: right;\n    }\n</style>\n<table border=\"1\" class=\"dataframe\">\n  <thead>\n    <tr style=\"text-align: right;\">\n      <th></th>\n      <th>English</th>\n      <th>French</th>\n      <th>Italian</th>\n      <th>German</th>\n      <th>Spanish</th>\n    </tr>\n  </thead>\n  <tbody>\n    <tr>\n      <th>English</th>\n      <td>663</td>\n      <td>3</td>\n      <td>28</td>\n      <td>21</td>\n      <td>9</td>\n    </tr>\n    <tr>\n      <th>French</th>\n      <td>33</td>\n      <td>5</td>\n      <td>9</td>\n      <td>13</td>\n      <td>1</td>\n    </tr>\n    <tr>\n      <th>Italian</th>\n      <td>59</td>\n      <td>4</td>\n      <td>78</td>\n      <td>3</td>\n      <td>3</td>\n    </tr>\n    <tr>\n      <th>German</th>\n      <td>18</td>\n      <td>4</td>\n      <td>1</td>\n      <td>107</td>\n      <td>15</td>\n    </tr>\n    <tr>\n      <th>Spanish</th>\n      <td>12</td>\n      <td>2</td>\n      <td>4</td>\n      <td>24</td>\n      <td>17</td>\n    </tr>\n  </tbody>\n</table>\n</div>"
     },
     "execution_count": 22,
     "metadata": {},
     "output_type": "execute_result"
    }
   ],
   "source": [
    "performance_plots(model, X_test, Y_test, log, nepochs)\n",
    "df, cm = confusion_matrix(model, X_test, Y_test)\n",
    "df"
   ]
  },
  {
   "cell_type": "markdown",
   "metadata": {},
   "source": [
    "### Handle Class Imbalance, Resampling\n",
    "\n",
    "We can observe a quite significant class imbalance in the data.<br>\n",
    "\n",
    "One way to compensate for that would be to use resampling."
   ]
  },
  {
   "cell_type": "code",
   "execution_count": 23,
   "metadata": {
    "ExecuteTime": {
     "end_time": "2024-05-07T13:30:02.701038600Z",
     "start_time": "2024-05-07T13:30:02.686670800Z"
    }
   },
   "outputs": [],
   "source": [
    "def handle_imbalance(names, languages):\n",
    "    max_size = names['lang'].value_counts().max() # take largest clas\n",
    "    names_upsampled = pd.DataFrame()\n",
    "\n",
    "    for language in languages:\n",
    "        names_lang = names[names['lang'] == language]\n",
    "        names_resampled = names_lang.sample(n=max_size, replace=True, random_state=42)\n",
    "        names_upsampled = pd.concat([names_upsampled, names_resampled], axis=0)\n",
    "\n",
    "    names_upsampled = names_upsampled.sample(frac=1, random_state=42).reset_index(drop=True)\n",
    "    \n",
    "    return names_upsampled\n"
   ]
  },
  {
   "cell_type": "code",
   "execution_count": 24,
   "metadata": {
    "ExecuteTime": {
     "end_time": "2024-05-07T13:30:04.390163100Z",
     "start_time": "2024-05-07T13:30:04.350933900Z"
    }
   },
   "outputs": [
    {
     "data": {
      "text/plain": "lang\nEnglish    0.2\nFrench     0.2\nGerman     0.2\nItalian    0.2\nSpanish    0.2\nName: name, dtype: float64"
     },
     "execution_count": 24,
     "metadata": {},
     "output_type": "execute_result"
    }
   ],
   "source": [
    "names_upsampled = handle_imbalance(names, languages)\n",
    "names_upsampled.groupby('lang')['name'].count()/len(names_upsampled)"
   ]
  },
  {
   "cell_type": "markdown",
   "metadata": {},
   "source": [
    "#### Train Model\n",
    "\n",
    "Again prepare train and test data (X_train, X_test, Y_train, Y_test)\n",
    "\n",
    "Train the same model as above with the new data."
   ]
  },
  {
   "cell_type": "code",
   "execution_count": 25,
   "metadata": {
    "ExecuteTime": {
     "end_time": "2024-05-07T13:30:29.054446Z",
     "start_time": "2024-05-07T13:30:27.373010800Z"
    }
   },
   "outputs": [],
   "source": [
    "### START YOUR CODE\n",
    "\n",
    "train_resampled, test_resampled = train_test_split(names_upsampled, test_size=0.2, random_state=42)\n",
    "\n",
    "X_train, Y_train = transform_data(train_resampled, maxlen, char_index, language_to_index)\n",
    "X_test, Y_test = transform_data(test_resampled, maxlen, char_index, language_to_index)\n",
    "\n",
    "### END YOUR CODE"
   ]
  },
  {
   "cell_type": "code",
   "execution_count": 27,
   "metadata": {
    "ExecuteTime": {
     "end_time": "2024-05-07T13:31:52.334816300Z",
     "start_time": "2024-05-07T13:31:39.666233400Z"
    }
   },
   "outputs": [
    {
     "name": "stdout",
     "output_type": "stream",
     "text": [
      "Epoch 1/10\n",
      "230/230 [==============================] - 1s 6ms/step - loss: 0.1191 - accuracy: 0.9584 - val_loss: 0.1717 - val_accuracy: 0.9433\n",
      "Epoch 2/10\n",
      "230/230 [==============================] - 1s 5ms/step - loss: 0.1124 - accuracy: 0.9603 - val_loss: 0.1711 - val_accuracy: 0.9389\n",
      "Epoch 3/10\n",
      "230/230 [==============================] - 1s 5ms/step - loss: 0.1215 - accuracy: 0.9564 - val_loss: 0.1867 - val_accuracy: 0.9427\n",
      "Epoch 4/10\n",
      "230/230 [==============================] - 1s 6ms/step - loss: 0.1123 - accuracy: 0.9609 - val_loss: 0.1952 - val_accuracy: 0.9387\n",
      "Epoch 5/10\n",
      "230/230 [==============================] - 1s 6ms/step - loss: 0.1237 - accuracy: 0.9554 - val_loss: 0.1820 - val_accuracy: 0.9381\n",
      "Epoch 6/10\n",
      "230/230 [==============================] - 1s 6ms/step - loss: 0.1031 - accuracy: 0.9625 - val_loss: 0.1750 - val_accuracy: 0.9381\n",
      "Epoch 7/10\n",
      "230/230 [==============================] - 1s 5ms/step - loss: 0.1036 - accuracy: 0.9614 - val_loss: 0.1639 - val_accuracy: 0.9452\n",
      "Epoch 8/10\n",
      "230/230 [==============================] - 1s 6ms/step - loss: 0.1064 - accuracy: 0.9601 - val_loss: 0.2012 - val_accuracy: 0.9351\n",
      "Epoch 9/10\n",
      "230/230 [==============================] - 1s 5ms/step - loss: 0.1202 - accuracy: 0.9561 - val_loss: 0.1837 - val_accuracy: 0.9430\n",
      "Epoch 10/10\n",
      "230/230 [==============================] - 1s 6ms/step - loss: 0.1172 - accuracy: 0.9564 - val_loss: 0.1946 - val_accuracy: 0.9370\n"
     ]
    }
   ],
   "source": [
    "### START YOUR CODE\n",
    "\n",
    "# train model\n",
    "\n",
    "batch_size = 64\n",
    "nepochs = 10\n",
    "\n",
    "log2 = model.fit(X_train, Y_train, batch_size=batch_size, epochs=nepochs, validation_data=(X_test, Y_test))\n",
    "\n",
    "### END YOUR CODE"
   ]
  },
  {
   "cell_type": "code",
   "execution_count": 28,
   "outputs": [
    {
     "name": "stdout",
     "output_type": "stream",
     "text": [
      "Train accuracy (end): 0.9563794732093811\n",
      "Train accuracy (max): 0.9625136256217957\n",
      "Test accuracy (end) : 0.9370229244232178\n",
      "Test accuracy (max) : 0.9452017545700073\n"
     ]
    },
    {
     "data": {
      "text/plain": "<Figure size 640x480 with 1 Axes>",
      "image/png": "[encoded data removed]"
     },
     "metadata": {},
     "output_type": "display_data"
    },
    {
     "data": {
      "text/plain": "<Figure size 640x480 with 1 Axes>",
      "image/png": "[encoded data removed]"
     },
     "metadata": {},
     "output_type": "display_data"
    },
    {
     "name": "stdout",
     "output_type": "stream",
     "text": [
      "115/115 [==============================] - 0s 2ms/step\n"
     ]
    },
    {
     "data": {
      "text/plain": "         English  French  Italian  German  Spanish\nEnglish      636      46       27      20        9\nFrench         5     725        3       3        8\nItalian       21      16      692       1        4\nGerman         0       0        1     708       22\nSpanish        7      12        0      26      676",
      "text/html": "<div>\n<style scoped>\n    .dataframe tbody tr th:only-of-type {\n        vertical-align: middle;\n    }\n\n    .dataframe tbody tr th {\n        vertical-align: top;\n    }\n\n    .dataframe thead th {\n        text-align: right;\n    }\n</style>\n<table border=\"1\" class=\"dataframe\">\n  <thead>\n    <tr style=\"text-align: right;\">\n      <th></th>\n      <th>English</th>\n      <th>French</th>\n      <th>Italian</th>\n      <th>German</th>\n      <th>Spanish</th>\n    </tr>\n  </thead>\n  <tbody>\n    <tr>\n      <th>English</th>\n      <td>636</td>\n      <td>46</td>\n      <td>27</td>\n      <td>20</td>\n      <td>9</td>\n    </tr>\n    <tr>\n      <th>French</th>\n      <td>5</td>\n      <td>725</td>\n      <td>3</td>\n      <td>3</td>\n      <td>8</td>\n    </tr>\n    <tr>\n      <th>Italian</th>\n      <td>21</td>\n      <td>16</td>\n      <td>692</td>\n      <td>1</td>\n      <td>4</td>\n    </tr>\n    <tr>\n      <th>German</th>\n      <td>0</td>\n      <td>0</td>\n      <td>1</td>\n      <td>708</td>\n      <td>22</td>\n    </tr>\n    <tr>\n      <th>Spanish</th>\n      <td>7</td>\n      <td>12</td>\n      <td>0</td>\n      <td>26</td>\n      <td>676</td>\n    </tr>\n  </tbody>\n</table>\n</div>"
     },
     "execution_count": 28,
     "metadata": {},
     "output_type": "execute_result"
    }
   ],
   "source": [
    "performance_plots(model, X_test, Y_test, log2, nepochs)\n",
    "df, cm = confusion_matrix(model, X_test, Y_test)\n",
    "df"
   ],
   "metadata": {
    "collapsed": false,
    "ExecuteTime": {
     "end_time": "2024-05-07T13:31:54.430331300Z",
     "start_time": "2024-05-07T13:31:53.784511200Z"
    }
   }
  },
  {
   "cell_type": "markdown",
   "metadata": {},
   "source": [
    "#### Findings\n",
    "\n",
    "The results with the balanced data show significant improvements compared to the unbalanced data. The training accuracy at the end of training is about 95.64%. The accuracy on the test data at the end also increased to about 93.70%, with a peak accuracy of 94.52%. This shows that balancing the data helped the model to learn more effectively and perform better on new, unseen data. Overall, the model has become more reliable and fair in predicting the language from names across all classes.\n",
    "\n",
    "The confusion matrix of for the model trained with balanced data demonstrates strong performance, with most predictions correctly identifying the language of names. The matrix shows that the majority of names for each language are classified correctly, which demonstrates that the model is effective at distinguishing between the languages. While there are some misclassifications where names are incorrectly predicted as a different language, these errors are relatively few compared to the correct predictions. This suggests that the model is quite robust and reliable, handling the complexities of language-specific names well across all tested categories. Compare to the other results of the unbalanced data, the model trained with balanced data has a much better performance and is more reliable in predicting the language of names (as said before).\n",
    "\n",
    "\n"
   ]
  },
  {
   "cell_type": "markdown",
   "metadata": {},
   "source": [
    "#### In which situations is class imbalance treatment important and why?  \n",
    "\n",
    "Class imbalance treatment is crucial in scenarios where the data does not equally represent all categories or classes. This often occurs in fields such as medical diagnostics, fraud detection, and sentiment analysis, where certain outcomes are much rarer than others. Without addressing class imbalance, machine learning or deep learning models like in this noitebook models can develop a bias towards the more frequent classes, leading to poor generalization when predicting less common classes. This can result in higher misclassification rates for those minority classes, which might be the most critical to detect accurately. When we treat this problem, we ensure that the model does not only learn to predict the majority class, but rather learns to recognize the distinguishing features of all classes, improving its overall accuracy and performance. This is particularly important in applications where the cost of misclassification is high.\n",
    "\n",
    "Source : https://www.sciencedirect.com/topics/computer-science/class-imbalance-problem#:~:text=The%20class%20imbalance%20problem%20typically,and%20ignore%20the%20small%20ones.\n"
   ]
  },
  {
   "cell_type": "markdown",
   "metadata": {},
   "source": [
    "### Implement Model with several SimpleRNN Layers"
   ]
  },
  {
   "cell_type": "code",
   "execution_count": 31,
   "metadata": {
    "ExecuteTime": {
     "end_time": "2024-05-07T13:37:31.160261900Z",
     "start_time": "2024-05-07T13:37:30.972729Z"
    }
   },
   "outputs": [
    {
     "name": "stdout",
     "output_type": "stream",
     "text": [
      "Model: \"sequential_3\"\n",
      "_________________________________________________________________\n",
      " Layer (type)                Output Shape              Param #   \n",
      "=================================================================\n",
      " simple_rnn_5 (SimpleRNN)    (None, 18, 64)            8896      \n",
      "                                                                 \n",
      " simple_rnn_6 (SimpleRNN)    (None, 18, 64)            8256      \n",
      "                                                                 \n",
      " simple_rnn_7 (SimpleRNN)    (None, 64)                8256      \n",
      "                                                                 \n",
      " dense_3 (Dense)             (None, 5)                 325       \n",
      "                                                                 \n",
      "=================================================================\n",
      "Total params: 25733 (100.52 KB)\n",
      "Trainable params: 25733 (100.52 KB)\n",
      "Non-trainable params: 0 (0.00 Byte)\n",
      "_________________________________________________________________\n"
     ]
    }
   ],
   "source": [
    "### START YOUR CODE\n",
    "\n",
    "model = Sequential([\n",
    "    SimpleRNN(64, return_sequences=True, input_shape=(maxlen, len(char_index)), activation='tanh'),\n",
    "    SimpleRNN(64, return_sequences=True, activation='tanh'),\n",
    "    SimpleRNN(64, return_sequences=False, activation='tanh'),\n",
    "    Dense(len(language_to_index), activation='softmax')\n",
    "])\n",
    "\n",
    "model.compile(optimizer='adam', loss='categorical_crossentropy', metrics=['accuracy'])\n",
    "### END YOUR CODE\n",
    "\n",
    "model.summary()"
   ]
  },
  {
   "cell_type": "code",
   "execution_count": 32,
   "metadata": {
    "ExecuteTime": {
     "end_time": "2024-05-07T13:37:56.117263200Z",
     "start_time": "2024-05-07T13:37:32.589919400Z"
    }
   },
   "outputs": [
    {
     "name": "stdout",
     "output_type": "stream",
     "text": [
      "Epoch 1/10\n",
      "230/230 [==============================] - 5s 10ms/step - loss: 1.0772 - accuracy: 0.5599 - val_loss: 0.7304 - val_accuracy: 0.7214\n",
      "Epoch 2/10\n",
      "230/230 [==============================] - 2s 9ms/step - loss: 0.6435 - accuracy: 0.7584 - val_loss: 0.5462 - val_accuracy: 0.7991\n",
      "Epoch 3/10\n",
      "230/230 [==============================] - 2s 9ms/step - loss: 0.4431 - accuracy: 0.8413 - val_loss: 0.3867 - val_accuracy: 0.8621\n",
      "Epoch 4/10\n",
      "230/230 [==============================] - 2s 10ms/step - loss: 0.3259 - accuracy: 0.8870 - val_loss: 0.3401 - val_accuracy: 0.8836\n",
      "Epoch 5/10\n",
      "230/230 [==============================] - 2s 8ms/step - loss: 0.2676 - accuracy: 0.9123 - val_loss: 0.3104 - val_accuracy: 0.8926\n",
      "Epoch 6/10\n",
      "230/230 [==============================] - 2s 8ms/step - loss: 0.2310 - accuracy: 0.9224 - val_loss: 0.2685 - val_accuracy: 0.9103\n",
      "Epoch 7/10\n",
      "230/230 [==============================] - 2s 9ms/step - loss: 0.2061 - accuracy: 0.9325 - val_loss: 0.2495 - val_accuracy: 0.9125\n",
      "Epoch 8/10\n",
      "230/230 [==============================] - 2s 9ms/step - loss: 0.1783 - accuracy: 0.9420 - val_loss: 0.2399 - val_accuracy: 0.9239\n",
      "Epoch 9/10\n",
      "230/230 [==============================] - 2s 9ms/step - loss: 0.1788 - accuracy: 0.9395 - val_loss: 0.2324 - val_accuracy: 0.9267\n",
      "Epoch 10/10\n",
      "230/230 [==============================] - 2s 8ms/step - loss: 0.1597 - accuracy: 0.9461 - val_loss: 0.1959 - val_accuracy: 0.9318\n"
     ]
    }
   ],
   "source": [
    "### START YOUR CODE\n",
    "\n",
    "batch_size = 64\n",
    "nepochs = 10\n",
    "\n",
    "log3 = model.fit(X_train, Y_train, batch_size=batch_size, epochs=nepochs, validation_data=(X_test, Y_test))\n",
    "\n",
    "### END YOUR CODE"
   ]
  },
  {
   "cell_type": "code",
   "execution_count": 33,
   "outputs": [
    {
     "name": "stdout",
     "output_type": "stream",
     "text": [
      "Train accuracy (end): 0.9460877776145935\n",
      "Train accuracy (max): 0.9460877776145935\n",
      "Test accuracy (end) : 0.9318429827690125\n",
      "Test accuracy (max) : 0.9318429827690125\n"
     ]
    },
    {
     "data": {
      "text/plain": "<Figure size 640x480 with 1 Axes>",
      "image/png": "[encoded data removed]"
     },
     "metadata": {},
     "output_type": "display_data"
    },
    {
     "data": {
      "text/plain": "<Figure size 640x480 with 1 Axes>",
      "image/png": "[encoded data removed]"
     },
     "metadata": {},
     "output_type": "display_data"
    },
    {
     "name": "stdout",
     "output_type": "stream",
     "text": [
      "115/115 [==============================] - 1s 3ms/step\n"
     ]
    },
    {
     "data": {
      "text/plain": "         English  French  Italian  German  Spanish\nEnglish      632      38       41      20        7\nFrench         4     722       11       0        7\nItalian       42      12      676       0        4\nGerman         4       1        0     695       31\nSpanish        1      16        0      11      693",
      "text/html": "<div>\n<style scoped>\n    .dataframe tbody tr th:only-of-type {\n        vertical-align: middle;\n    }\n\n    .dataframe tbody tr th {\n        vertical-align: top;\n    }\n\n    .dataframe thead th {\n        text-align: right;\n    }\n</style>\n<table border=\"1\" class=\"dataframe\">\n  <thead>\n    <tr style=\"text-align: right;\">\n      <th></th>\n      <th>English</th>\n      <th>French</th>\n      <th>Italian</th>\n      <th>German</th>\n      <th>Spanish</th>\n    </tr>\n  </thead>\n  <tbody>\n    <tr>\n      <th>English</th>\n      <td>632</td>\n      <td>38</td>\n      <td>41</td>\n      <td>20</td>\n      <td>7</td>\n    </tr>\n    <tr>\n      <th>French</th>\n      <td>4</td>\n      <td>722</td>\n      <td>11</td>\n      <td>0</td>\n      <td>7</td>\n    </tr>\n    <tr>\n      <th>Italian</th>\n      <td>42</td>\n      <td>12</td>\n      <td>676</td>\n      <td>0</td>\n      <td>4</td>\n    </tr>\n    <tr>\n      <th>German</th>\n      <td>4</td>\n      <td>1</td>\n      <td>0</td>\n      <td>695</td>\n      <td>31</td>\n    </tr>\n    <tr>\n      <th>Spanish</th>\n      <td>1</td>\n      <td>16</td>\n      <td>0</td>\n      <td>11</td>\n      <td>693</td>\n    </tr>\n  </tbody>\n</table>\n</div>"
     },
     "execution_count": 33,
     "metadata": {},
     "output_type": "execute_result"
    }
   ],
   "source": [
    "performance_plots(model, X_test, Y_test, log3, nepochs)\n",
    "df, cm = confusion_matrix(model, X_test, Y_test)\n",
    "df"
   ],
   "metadata": {
    "collapsed": false,
    "ExecuteTime": {
     "end_time": "2024-05-07T13:37:57.132485300Z",
     "start_time": "2024-05-07T13:37:56.112263800Z"
    }
   }
  },
  {
   "cell_type": "markdown",
   "metadata": {},
   "source": [
    "#### Findings\n",
    "\n",
    "The significant difference compared to the other score obtained is that the model with multiple SimpleRNN layers has a score equal to the one with a single RNN layer. This shows that the model with multiple layers did not improve the performance. This could be due to several reasons, including the fact that the simple model was already complex enough to learn the data and adding additional layers did not enhance performance. Generally, it is important to test different model architectures to find the one that works best for the specific data, and we see that in our case, the model with a single SimpleRNN layer provided good results as much as the one with multiple layers.\n",
    "\n",
    "One important thing to note is that the single-layer model starts directly with a very high score and remains stable throughout, unlike the model with multiple layers, which starts with a lower score and then increases. This could be due to the fact that the model with multiple layers is more complex and therefore takes longer to learn the data. However, in the end, the performance is similar to the single-layer model, which suggests that the additional complexity did not provide any significant benefits in this case.\n"
   ]
  }
 ],
 "metadata": {
  "kernelspec": {
   "display_name": "Python 3 (ipykernel)",
   "language": "python",
   "name": "python3"
  },
  "language_info": {
   "codemirror_mode": {
    "name": "ipython",
    "version": 3
   },
   "file_extension": ".py",
   "mimetype": "text/x-python",
   "name": "python",
   "nbconvert_exporter": "python",
   "pygments_lexer": "ipython3",
   "version": "3.11.8"
  }
 },
 "nbformat": 4,
 "nbformat_minor": 4
}
