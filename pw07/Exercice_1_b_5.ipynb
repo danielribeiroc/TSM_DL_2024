{
 "cells": [
  {
   "cell_type": "code",
   "execution_count": 2,
   "id": "initial_id",
   "metadata": {
    "collapsed": true,
    "ExecuteTime": {
     "end_time": "2024-04-11T07:04:25.800682100Z",
     "start_time": "2024-04-11T07:04:25.769207400Z"
    }
   },
   "outputs": [
    {
     "data": {
      "text/plain": "array([ 9.,  6., -4.,  5.,  2.,  2.,  7.])"
     },
     "execution_count": 2,
     "metadata": {},
     "output_type": "execute_result"
    }
   ],
   "source": [
    "import numpy as np\n",
    "\n",
    "input_data = np.array([1, 3, -2, 0, 2, -1, 3, 1, 2])\n",
    "kernel = np.array([2, 1, -1])\n",
    "bias = 2\n",
    "\n",
    "def cnn1(input_data, kernel, bias, stride=1, padding=0):\n",
    "    input_padded = np.pad(input_data, (padding, padding), mode='constant', constant_values=0)\n",
    "    \n",
    "    output_length = ((input_padded.size - kernel.size + 2 * padding) // stride) + 1\n",
    "    \n",
    "    output = np.zeros(output_length)\n",
    "    for i in range(output_length):\n",
    "        output[i] = np.sum(input_padded[i:i+kernel.size] * kernel) + bias\n",
    "    return output\n",
    "\n",
    "output = cnn1(input_data, kernel, bias, stride=1, padding=0)\n",
    "output\n"
   ]
  }
 ],
 "metadata": {
  "kernelspec": {
   "display_name": "Python 3",
   "language": "python",
   "name": "python3"
  },
  "language_info": {
   "codemirror_mode": {
    "name": "ipython",
    "version": 2
   },
   "file_extension": ".py",
   "mimetype": "text/x-python",
   "name": "python",
   "nbconvert_exporter": "python",
   "pygments_lexer": "ipython2",
   "version": "2.7.6"
  }
 },
 "nbformat": 4,
 "nbformat_minor": 5
}
