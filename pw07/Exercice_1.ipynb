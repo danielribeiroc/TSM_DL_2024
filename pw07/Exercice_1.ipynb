{
 "cells": [
  {
   "cell_type": "markdown",
   "source": [
    "# Exercice 1"
   ],
   "metadata": {
    "collapsed": false
   },
   "id": "f16d4a4f1dd241e3"
  },
  {
   "cell_type": "markdown",
   "source": [
    "### a) Convolution 1d"
   ],
   "metadata": {
    "collapsed": false
   },
   "id": "6b87f4476e0e1ee"
  },
  {
   "cell_type": "code",
   "outputs": [],
   "source": [
    "import numpy as np"
   ],
   "metadata": {
    "collapsed": false,
    "ExecuteTime": {
     "end_time": "2024-04-11T11:03:41.785412400Z",
     "start_time": "2024-04-11T11:03:41.762412Z"
    }
   },
   "id": "d51176eb7d886899",
   "execution_count": 13
  },
  {
   "cell_type": "code",
   "outputs": [],
   "source": [
    "input_data = np.array([1, 3, -2, 0, 2, -1, 3, 1, 2])\n",
    "kernel = np.array([2, 1, -1])\n",
    "bias = 2\n",
    "\n",
    "conv_parameters = [(1,0),(2,0),(4,0),(1,1),(4,1)] # (stride, padding)"
   ],
   "metadata": {
    "collapsed": false,
    "ExecuteTime": {
     "end_time": "2024-04-11T11:03:41.800412Z",
     "start_time": "2024-04-11T11:03:41.774409800Z"
    }
   },
   "id": "ae11f407dd5d50ac",
   "execution_count": 14
  },
  {
   "cell_type": "code",
   "outputs": [],
   "source": [
    "def conv1d(input_data, kernel, bias, stride=1, padding=0):\n",
    "    \n",
    "    input_padded = np.pad(input_data, (padding, padding), 'constant', constant_values=0)\n",
    "\n",
    "    output_length = ((input_padded.size - kernel.size + 2 * padding) // stride) + 1\n",
    "    \n",
    "    # Avoid negative output length\n",
    "    if output_length < 0:\n",
    "        return np.array([])  \n",
    "    \n",
    "    output = []\n",
    "    for i in range(0, len(input_padded) - len(kernel) + 1, stride):\n",
    "       \n",
    "        window = input_padded[i:i+len(kernel)]    \n",
    "        if len(window) == len(kernel):\n",
    "            output.append(np.sum(window * kernel) + bias)\n",
    "    \n",
    "    return np.array(output)"
   ],
   "metadata": {
    "collapsed": false,
    "ExecuteTime": {
     "end_time": "2024-04-11T11:03:41.818408600Z",
     "start_time": "2024-04-11T11:03:41.794413900Z"
    }
   },
   "id": "5cc3c43355eac821",
   "execution_count": 15
  },
  {
   "cell_type": "code",
   "outputs": [
    {
     "name": "stdout",
     "output_type": "stream",
     "text": [
      "Stride: 1, Padding: 0\n",
      "Output: [ 9  6 -4  5  2  2  7]\n",
      "\n",
      "Stride: 2, Padding: 0\n",
      "Output: [ 9 -4  2  7]\n",
      "\n",
      "Stride: 4, Padding: 0\n",
      "Output: [9 2]\n",
      "\n",
      "Stride: 1, Padding: 1\n",
      "Output: [ 0  9  6 -4  5  2  2  7  6]\n",
      "\n",
      "Stride: 4, Padding: 1\n",
      "Output: [0 5 6]\n"
     ]
    }
   ],
   "source": [
    "for stride, padding in conv_parameters:\n",
    "    output = conv1d(input_data, kernel, bias, stride=stride, padding=padding)\n",
    "    print(f\"Stride: {stride}, Padding: {padding}\\nOutput: {output}\\n\")"
   ],
   "metadata": {
    "collapsed": false,
    "ExecuteTime": {
     "end_time": "2024-04-11T11:03:41.875925600Z",
     "start_time": "2024-04-11T11:03:41.808409400Z"
    }
   },
   "id": "c5535c1cd5c7c9da",
   "execution_count": 16
  },
  {
   "cell_type": "markdown",
   "source": [
    "**Question :**\n",
    "For which values of S and P we get an output of the same dimension as the input ?\n",
    "Here's the general formula:\n",
    "$$\n",
    "\\text{Output length} = \\frac{\\text{Input length} - \\text{Filter size} + 2 \\times \\text{Padding}}{\\text{Stride}} + 1\n",
    "$$\n",
    "\n",
    "And here's the formula with our values:\n",
    "$$\n",
    "\\text{9} = \\frac{\\text{6} + 2 \\times \\text{Padding}}{\\text{Stride}} + 1\n",
    "$$\n",
    "\n",
    "So if we have a basic stride of 1 we'll need a padding of 1 :\n",
    "$$\n",
    "\\text{9} = \\frac{\\text{6} + 2 \\times \\text{1}}{\\text{1}} + 1\n",
    "$$\n",
    "\n",
    "However, a lot of solution are possible for example if Stride = 2 and Padding = 5 :\n",
    "$$\n",
    "\\text{9} = \\frac{\\text{6} + 2 \\times \\text{5}}{\\text{2}} + 1\n",
    "$$\n"
   ],
   "metadata": {
    "collapsed": false
   },
   "id": "51584ebef7b2bf68"
  },
  {
   "cell_type": "markdown",
   "source": [
    "### b) Convolution 2d"
   ],
   "metadata": {
    "collapsed": false
   },
   "id": "b1028d6d896aa2"
  },
  {
   "cell_type": "code",
   "outputs": [],
   "source": [
    "# Input array representing a 4x4 image with 3 channels\n",
    "input_array = np.array([\n",
    "    # Red channel\n",
    "    [\n",
    "        [2, 1, 0, 2],\n",
    "        [2, 0, 1, 2],\n",
    "        [0, 2, 1, 2],\n",
    "        [0, 0, 1, 0]\n",
    "    ],\n",
    "    # Green channel\n",
    "    [\n",
    "        [0, 2, 2, 1],\n",
    "        [0, 2, 2, 1],\n",
    "        [2, 0, 2, 0],\n",
    "        [1, 1, 0, 2]\n",
    "    ],\n",
    "    # Blue channel\n",
    "    [\n",
    "        [0, 2, 0, 0],\n",
    "        [2, 1, 1, 1],\n",
    "        [2, 0, 0, 2],\n",
    "        [0, 2, 0, 2]\n",
    "    ]\n",
    "])\n",
    "\n",
    "# Filters\n",
    "filter1_array = np.array([\n",
    "    [[1, 1], [0, 0]],  \n",
    "    [[0, -1], [0, -1]],\n",
    "    [[1, 0], [0, 1]]\n",
    "])\n",
    "\n",
    "filter2_array = np.array([\n",
    "    [[0, 1], [1, 0]], \n",
    "    [[1, 0], [1, 0]],\n",
    "    [[-1, 0], [0, 1]]\n",
    "])\n",
    "\n",
    "# Bias values\n",
    "bias1 = 1\n",
    "bias2 = -1"
   ],
   "metadata": {
    "collapsed": false,
    "ExecuteTime": {
     "end_time": "2024-04-11T11:31:26.745031800Z",
     "start_time": "2024-04-11T11:31:26.732509600Z"
    }
   },
   "id": "9bfd0c0708b312dc",
   "execution_count": 37
  },
  {
   "cell_type": "code",
   "outputs": [],
   "source": [
    "def conv2d(input_array, filter_array, bias, stride=1, padding=0):\n",
    "  \n",
    "    # Retrieve dimensions\n",
    "    input_array_padded = np.pad(input_array, ((0, 0), (padding, padding), (padding, padding)), mode='constant', constant_values=0)\n",
    "    num_channels, padded_height, padded_width = input_array_padded.shape\n",
    "    _ ,filter_height, filter_width = filter_array.shape\n",
    "    \n",
    "    # Compute weight and width of the output\n",
    "    output_height = ((padded_height - filter_height) // stride) + 1\n",
    "    output_width = ((padded_width - filter_width) // stride) + 1\n",
    "    \n",
    "    output = np.zeros((output_height, output_width))\n",
    "    \n",
    "    # Run the convolution\n",
    "    for channel in range(num_channels):\n",
    "        for i in range(0, output_height):\n",
    "            for j in range(0, output_width):\n",
    "                # Calculate the start and end points for the current \"slide\"\n",
    "                start_i = i * stride\n",
    "                start_j = j * stride\n",
    "                end_i = start_i + filter_height\n",
    "                end_j = start_j + filter_width\n",
    "                \n",
    "                # Apply the filter\n",
    "                output[i, j] += np.sum(input_array_padded[channel, start_i:end_i, start_j:end_j] * filter_array[channel])\n",
    "                \n",
    "    # Add of bias\n",
    "    output += bias\n",
    "    \n",
    "    return output"
   ],
   "metadata": {
    "collapsed": false,
    "ExecuteTime": {
     "end_time": "2024-04-11T11:34:40.051854900Z",
     "start_time": "2024-04-11T11:34:40.049854200Z"
    }
   },
   "id": "59d07dfb9b838ea3",
   "execution_count": 43
  },
  {
   "cell_type": "code",
   "outputs": [
    {
     "name": "stdout",
     "output_type": "stream",
     "text": [
      "Activation map 1 :\n",
      " [[ 1.  1.  2.]\n",
      " [ 3. -1.  6.]\n",
      " [ 6.  2.  4.]]\n",
      "\n",
      "Activation map 2 :\n",
      " [[ 3.  2.  7.]\n",
      " [-1.  3.  7.]\n",
      " [ 4.  1.  6.]]\n"
     ]
    }
   ],
   "source": [
    "output1 = conv2d(input_array, filter1_array, bias1,stride=1,padding=0)\n",
    "output2 = conv2d(input_array, filter2_array, bias2,stride=1,padding=0)\n",
    "\n",
    "print(\"Activation map 1 :\\n\", output1)\n",
    "print(\"\\nActivation map 2 :\\n\", output2)"
   ],
   "metadata": {
    "collapsed": false,
    "ExecuteTime": {
     "end_time": "2024-04-11T11:34:42.132954700Z",
     "start_time": "2024-04-11T11:34:42.120956300Z"
    }
   },
   "id": "547ed170bdfc341a",
   "execution_count": 44
  },
  {
   "cell_type": "markdown",
   "source": [
    "**Questions :**\n",
    "a) How many activations map will we obtain ? \n",
    "- We'll obtain 2 activation map because we have 2 filters and each one reduce the outputs from 3  to 1 channel\n",
    "\n",
    "Given two filters with dimensions (3 channels, 2 height, 2 width) and an input with dimensions (3 channels, 4 height, 4 width):\n",
    "b) With S = 1 and P = 0, what will be the shape of the output ?\n",
    "- With a stride (S) of 1 and no padding (P), the output dimensions are:\n",
    "    - Output Height = $\\frac{4 - 2 + 0}{1} + 1 = 3$\n",
    "    - Output Width = $\\frac{4 - 2 + 0}{1} + 1 = 3$\n",
    "    - The shape of the output will be (2, 3, 3), as we have 2 activation maps.\n",
    "    \n",
    "c) With S = 2 and P = 0, what will be the shape of the output ?\n",
    "- With a stride (S) of 2 and no padding (P), the output dimensions are calculated as:\n",
    "    - Output Height = $\\frac{4 - 2 + 0}{2} + 1 = 2$\n",
    "    - Output Width = $\\frac{4 - 2 + 0}{2} + 1 = 2$\n",
    "    - The shape of the output will be (2, 2, 2), because we have 2 activation maps.\n",
    "        \n",
    "d) Give a filter size, padding value and stride value that will preserve the shape of the input.\n",
    "- If we keep the same filter size and use a padding and a stride of the value of 1 we'll preserve the shape of the input.\n",
    "\n",
    "e) Compute the values of the output with S = 1 and P = 0 using an appropriate iPython notebook.\n",
    "- See code 2b)"
   ],
   "metadata": {
    "collapsed": false
   },
   "id": "e296a59448af58fb"
  }
 ],
 "metadata": {
  "kernelspec": {
   "display_name": "Python 3",
   "language": "python",
   "name": "python3"
  },
  "language_info": {
   "codemirror_mode": {
    "name": "ipython",
    "version": 2
   },
   "file_extension": ".py",
   "mimetype": "text/x-python",
   "name": "python",
   "nbconvert_exporter": "python",
   "pygments_lexer": "ipython2",
   "version": "2.7.6"
  }
 },
 "nbformat": 4,
 "nbformat_minor": 5
}
