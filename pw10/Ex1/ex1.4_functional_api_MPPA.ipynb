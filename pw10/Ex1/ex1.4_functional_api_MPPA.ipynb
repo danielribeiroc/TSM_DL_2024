{
 "cells": [
  {
   "cell_type": "markdown",
   "source": [
    "# Functional API model : Multiple path Personalised Architecture"
   ],
   "metadata": {
    "collapsed": false
   }
  },
  {
   "cell_type": "markdown",
   "source": [
    "### Imports"
   ],
   "metadata": {
    "collapsed": false
   }
  },
  {
   "cell_type": "code",
   "outputs": [],
   "source": [
    "import tensorflow as tf\n",
    "import matplotlib.pyplot as plt\n",
    "from tensorflow.keras.layers import concatenate, Input, Conv2D, BatchNormalization, Activation, MaxPooling2D, Dropout, Flatten, Dense\n",
    "from tensorflow.keras import utils\n",
    "from tensorflow.keras.callbacks import ModelCheckpoint\n",
    "from tensorflow.keras.models import Model\n",
    "from tensorflow.keras.datasets import cifar10\n",
    "from tensorflow.keras.utils import to_categorical\n",
    "from tensorflow.keras.optimizers import Adam\n",
    "import numpy as np\n",
    "from tensorflow.keras.models import Sequential"
   ],
   "metadata": {
    "collapsed": false,
    "ExecuteTime": {
     "end_time": "2024-05-01T12:21:32.691226100Z",
     "start_time": "2024-05-01T12:21:19.355940700Z"
    }
   },
   "execution_count": 1
  },
  {
   "cell_type": "markdown",
   "source": [
    "### Instanciate GPU"
   ],
   "metadata": {
    "collapsed": false
   }
  },
  {
   "cell_type": "code",
   "outputs": [
    {
     "name": "stdout",
     "output_type": "stream",
     "text": [
      "Num GPUs Available:  1\n"
     ]
    }
   ],
   "source": [
    "#use gpu\n",
    "physical_devices = tf.config.experimental.list_physical_devices('GPU')\n",
    "print(\"Num GPUs Available: \", len(physical_devices))\n",
    "tf.config.experimental.set_memory_growth(physical_devices[0], True)\n"
   ],
   "metadata": {
    "collapsed": false,
    "ExecuteTime": {
     "end_time": "2024-05-01T12:21:35.363998600Z",
     "start_time": "2024-05-01T12:21:35.338170200Z"
    }
   },
   "execution_count": 2
  },
  {
   "cell_type": "markdown",
   "source": [
    "### Process data"
   ],
   "metadata": {
    "collapsed": false
   }
  },
  {
   "cell_type": "code",
   "outputs": [
    {
     "name": "stdout",
     "output_type": "stream",
     "text": [
      "original data type :  uint8\n",
      "original data range [ 0 , 255 ]\n",
      "\n",
      "converted data type :  float32\n",
      "converted data range [ 0.0 , 1.0 ]\n",
      "\n",
      "training data shape :  (50000, 32, 32, 3)\n",
      "testing data shape  :  (10000, 32, 32, 3)\n"
     ]
    }
   ],
   "source": [
    "(X_train, y_train), (X_test, y_test) = cifar10.load_data()\n",
    "\n",
    "print('original data type : ', X_train.dtype)\n",
    "print('original data range [', np.min(X_train), ',', np.max(X_train),']')\n",
    "\n",
    "X_train = X_train.astype('float32')\n",
    "X_test = X_test.astype('float32')\n",
    "X_train /= 255.0\n",
    "X_test /= 255.0\n",
    "\n",
    "print('\\nconverted data type : ', X_train.dtype)\n",
    "print('converted data range [', np.min(X_train), ',', np.max(X_train),']')\n",
    "\n",
    "print('\\ntraining data shape : ', X_train.shape)\n",
    "print('testing data shape  : ', X_test.shape)"
   ],
   "metadata": {
    "collapsed": false,
    "ExecuteTime": {
     "end_time": "2024-05-01T12:21:36.410484100Z",
     "start_time": "2024-05-01T12:21:35.355521500Z"
    }
   },
   "execution_count": 3
  },
  {
   "cell_type": "code",
   "outputs": [
    {
     "name": "stdout",
     "output_type": "stream",
     "text": [
      "[[0. 0. 0. 0. 0. 0. 1. 0. 0. 0.]\n",
      " [0. 0. 0. 0. 0. 0. 0. 0. 0. 1.]\n",
      " [0. 0. 0. 0. 0. 0. 0. 0. 0. 1.]\n",
      " [0. 0. 0. 0. 1. 0. 0. 0. 0. 0.]\n",
      " [0. 1. 0. 0. 0. 0. 0. 0. 0. 0.]\n",
      " [0. 1. 0. 0. 0. 0. 0. 0. 0. 0.]\n",
      " [0. 0. 1. 0. 0. 0. 0. 0. 0. 0.]\n",
      " [0. 0. 0. 0. 0. 0. 0. 1. 0. 0.]\n",
      " [0. 0. 0. 0. 0. 0. 0. 0. 1. 0.]\n",
      " [0. 0. 0. 1. 0. 0. 0. 0. 0. 0.]]\n"
     ]
    }
   ],
   "source": [
    "n_classes = 10\n",
    "Y_train = utils.to_categorical(y_train, n_classes)\n",
    "Y_test = utils.to_categorical(y_test, n_classes)\n",
    "print(Y_train[:10])"
   ],
   "metadata": {
    "collapsed": false,
    "ExecuteTime": {
     "end_time": "2024-05-01T12:21:36.439008400Z",
     "start_time": "2024-05-01T12:21:36.410484100Z"
    }
   },
   "execution_count": 4
  },
  {
   "cell_type": "markdown",
   "source": [
    "### Create model"
   ],
   "metadata": {
    "collapsed": false
   }
  },
  {
   "cell_type": "code",
   "outputs": [
    {
     "name": "stdout",
     "output_type": "stream",
     "text": [
      "Model: \"model\"\n",
      "__________________________________________________________________________________________________\n",
      " Layer (type)                   Output Shape         Param #     Connected to                     \n",
      "==================================================================================================\n",
      " input_1 (InputLayer)           [(None, 32, 32, 3)]  0           []                               \n",
      "                                                                                                  \n",
      " conv2d (Conv2D)                (None, 32, 32, 64)   256         ['input_1[0][0]']                \n",
      "                                                                                                  \n",
      " conv2d_2 (Conv2D)              (None, 32, 32, 64)   1792        ['input_1[0][0]']                \n",
      "                                                                                                  \n",
      " batch_normalization (BatchNorm  (None, 32, 32, 64)  256         ['conv2d[0][0]']                 \n",
      " alization)                                                                                       \n",
      "                                                                                                  \n",
      " batch_normalization_2 (BatchNo  (None, 32, 32, 64)  256         ['conv2d_2[0][0]']               \n",
      " rmalization)                                                                                     \n",
      "                                                                                                  \n",
      " max_pooling2d (MaxPooling2D)   (None, 32, 32, 3)    0           ['input_1[0][0]']                \n",
      "                                                                                                  \n",
      " conv2d_1 (Conv2D)              (None, 32, 32, 64)   36928       ['batch_normalization[0][0]']    \n",
      "                                                                                                  \n",
      " conv2d_3 (Conv2D)              (None, 32, 32, 64)   102464      ['batch_normalization_2[0][0]']  \n",
      "                                                                                                  \n",
      " conv2d_4 (Conv2D)              (None, 32, 32, 64)   256         ['max_pooling2d[0][0]']          \n",
      "                                                                                                  \n",
      " batch_normalization_1 (BatchNo  (None, 32, 32, 64)  256         ['conv2d_1[0][0]']               \n",
      " rmalization)                                                                                     \n",
      "                                                                                                  \n",
      " batch_normalization_3 (BatchNo  (None, 32, 32, 64)  256         ['conv2d_3[0][0]']               \n",
      " rmalization)                                                                                     \n",
      "                                                                                                  \n",
      " batch_normalization_4 (BatchNo  (None, 32, 32, 64)  256         ['conv2d_4[0][0]']               \n",
      " rmalization)                                                                                     \n",
      "                                                                                                  \n",
      " concatenate (Concatenate)      (None, 32, 32, 192)  0           ['batch_normalization_1[0][0]',  \n",
      "                                                                  'batch_normalization_3[0][0]',  \n",
      "                                                                  'batch_normalization_4[0][0]']  \n",
      "                                                                                                  \n",
      " flatten (Flatten)              (None, 196608)       0           ['concatenate[0][0]']            \n",
      "                                                                                                  \n",
      " dense (Dense)                  (None, 256)          50331904    ['flatten[0][0]']                \n",
      "                                                                                                  \n",
      " dropout (Dropout)              (None, 256)          0           ['dense[0][0]']                  \n",
      "                                                                                                  \n",
      " dense_1 (Dense)                (None, 10)           2570        ['dropout[0][0]']                \n",
      "                                                                                                  \n",
      "==================================================================================================\n",
      "Total params: 50,477,450\n",
      "Trainable params: 50,476,810\n",
      "Non-trainable params: 640\n",
      "__________________________________________________________________________________________________\n"
     ]
    }
   ],
   "source": [
    "input_shape = X_train.shape[1:]\n",
    "\n",
    "inputs = Input(shape=input_shape)\n",
    "\n",
    "# Path 1: Convolution with a small kernel\n",
    "path_1 = Conv2D(64, (1, 1), padding='same', activation='relu')(inputs)\n",
    "path_1 = BatchNormalization()(path_1)\n",
    "path_1 = Conv2D(64, (3, 3), padding='same', activation='relu')(path_1)\n",
    "path_1 = BatchNormalization()(path_1)\n",
    "\n",
    "# Path 2: Convolution with a medium kernel\n",
    "path_2 = Conv2D(64, (3, 3), padding='same', activation='relu')(inputs)\n",
    "path_2 = BatchNormalization()(path_2)\n",
    "path_2 = Conv2D(64, (5, 5), padding='same', activation='relu')(path_2)\n",
    "path_2 = BatchNormalization()(path_2)\n",
    "\n",
    "# Path 3: Max Pooling followed by Convolution\n",
    "path_3 = MaxPooling2D((3, 3), strides=(1, 1), padding='same')(inputs)\n",
    "path_3 = Conv2D(64, (1, 1), padding='same', activation='relu')(path_3)\n",
    "path_3 = BatchNormalization()(path_3)\n",
    "\n",
    "# Concatenate all paths\n",
    "concatenated = concatenate([path_1, path_2, path_3], axis=-1)\n",
    "\n",
    "flatten = Flatten()(concatenated)\n",
    "dense = Dense(256, activation='relu')(flatten)\n",
    "dropout = Dropout(0.5)(dense)\n",
    "outputs = Dense(n_classes, activation='softmax')(dropout)\n",
    "\n",
    "model = Model(inputs, outputs)\n",
    "\n",
    "\n",
    "model.compile(optimizer=Adam(learning_rate=0.001),\n",
    "              loss='categorical_crossentropy',\n",
    "              metrics=['accuracy'])\n",
    "\n",
    "model.summary()"
   ],
   "metadata": {
    "colab": {
     "base_uri": "https://localhost:8080/"
    },
    "id": "3Wju2m4LU6Bd",
    "outputId": "53702cbf-baaf-4923-951d-4a4f84c0d91f",
    "ExecuteTime": {
     "end_time": "2024-05-01T12:21:37.521004600Z",
     "start_time": "2024-05-01T12:21:36.439008400Z"
    }
   },
   "execution_count": 5
  },
  {
   "cell_type": "markdown",
   "source": [
    "### Train model"
   ],
   "metadata": {
    "collapsed": false
   }
  },
  {
   "cell_type": "code",
   "outputs": [
    {
     "name": "stdout",
     "output_type": "stream",
     "text": [
      "Epoch 1/10\n",
      "782/782 [==============================] - ETA: 0s - loss: 3.7274 - accuracy: 0.1045\n",
      "Epoch 1: val_accuracy improved from -inf to 0.09870, saving model to best_model_d.h5\n",
      "782/782 [==============================] - 39s 45ms/step - loss: 3.7274 - accuracy: 0.1045 - val_loss: 2.3110 - val_accuracy: 0.0987\n",
      "Epoch 2/10\n",
      "781/782 [============================>.] - ETA: 0s - loss: 2.3032 - accuracy: 0.0981\n",
      "Epoch 2: val_accuracy improved from 0.09870 to 0.09980, saving model to best_model_d.h5\n",
      "782/782 [==============================] - 36s 46ms/step - loss: 2.3032 - accuracy: 0.0981 - val_loss: 2.3066 - val_accuracy: 0.0998\n",
      "Epoch 3/10\n",
      "781/782 [============================>.] - ETA: 0s - loss: 2.3101 - accuracy: 0.0988\n",
      "Epoch 3: val_accuracy improved from 0.09980 to 0.10000, saving model to best_model_d.h5\n",
      "782/782 [==============================] - 35s 45ms/step - loss: 2.3101 - accuracy: 0.0988 - val_loss: 2.3026 - val_accuracy: 0.1000\n",
      "Epoch 4/10\n",
      "781/782 [============================>.] - ETA: 0s - loss: 2.3040 - accuracy: 0.0976\n",
      "Epoch 4: val_accuracy did not improve from 0.10000\n",
      "782/782 [==============================] - 34s 44ms/step - loss: 2.3040 - accuracy: 0.0975 - val_loss: 2.3026 - val_accuracy: 0.1000\n",
      "Epoch 5/10\n",
      "782/782 [==============================] - ETA: 0s - loss: 2.3027 - accuracy: 0.0993\n",
      "Epoch 5: val_accuracy did not improve from 0.10000\n",
      "782/782 [==============================] - 139s 178ms/step - loss: 2.3027 - accuracy: 0.0993 - val_loss: 2.3026 - val_accuracy: 0.1000\n",
      "Epoch 6/10\n",
      "781/782 [============================>.] - ETA: 0s - loss: 2.3027 - accuracy: 0.0965\n",
      "Epoch 6: val_accuracy did not improve from 0.10000\n",
      "782/782 [==============================] - 64s 82ms/step - loss: 2.3027 - accuracy: 0.0965 - val_loss: 2.3026 - val_accuracy: 0.1000\n",
      "Epoch 7/10\n",
      "782/782 [==============================] - ETA: 0s - loss: 2.3027 - accuracy: 0.0988\n",
      "Epoch 7: val_accuracy did not improve from 0.10000\n",
      "782/782 [==============================] - 81s 103ms/step - loss: 2.3027 - accuracy: 0.0988 - val_loss: 2.3026 - val_accuracy: 0.1000\n",
      "Epoch 8/10\n",
      "782/782 [==============================] - ETA: 0s - loss: 2.3027 - accuracy: 0.0970\n",
      "Epoch 8: val_accuracy did not improve from 0.10000\n",
      "782/782 [==============================] - 45s 58ms/step - loss: 2.3027 - accuracy: 0.0970 - val_loss: 2.3026 - val_accuracy: 0.1000\n",
      "Epoch 9/10\n",
      "782/782 [==============================] - ETA: 0s - loss: 2.3096 - accuracy: 0.0983\n",
      "Epoch 9: val_accuracy improved from 0.10000 to 0.10460, saving model to best_model_d.h5\n",
      "782/782 [==============================] - 84s 107ms/step - loss: 2.3096 - accuracy: 0.0983 - val_loss: 3.0034 - val_accuracy: 0.1046\n",
      "Epoch 10/10\n",
      "782/782 [==============================] - ETA: 0s - loss: 2.3124 - accuracy: 0.0986\n",
      "Epoch 10: val_accuracy did not improve from 0.10460\n",
      "782/782 [==============================] - 162s 207ms/step - loss: 2.3124 - accuracy: 0.0986 - val_loss: 2.3026 - val_accuracy: 0.1000\n"
     ]
    }
   ],
   "source": [
    "E = 10                # number of epochs\n",
    "B = 64                # batch side\n",
    "V = 0.2               # validation split\n",
    "\n",
    "checkpoint_callback = ModelCheckpoint(\n",
    "    'best_model_d.h5',\n",
    "    monitor='val_accuracy',\n",
    "    save_best_only=True,\n",
    "    verbose=1\n",
    ")\n",
    "\n",
    "log = model.fit(X_train, Y_train, batch_size=B, epochs=E,\n",
    "               verbose=1, validation_data=(X_test, Y_test),callbacks=[checkpoint_callback])"
   ],
   "metadata": {
    "collapsed": false,
    "ExecuteTime": {
     "end_time": "2024-05-01T12:33:37.020132100Z",
     "start_time": "2024-05-01T12:21:37.486833Z"
    }
   },
   "execution_count": 6
  },
  {
   "cell_type": "markdown",
   "source": [
    "### Evaluate model"
   ],
   "metadata": {
    "collapsed": false
   }
  },
  {
   "cell_type": "code",
   "outputs": [
    {
     "data": {
      "text/plain": "<Figure size 1200x400 with 2 Axes>",
      "image/png": "[encoded data removed]"
     },
     "metadata": {},
     "output_type": "display_data"
    }
   ],
   "source": [
    "f = plt.figure(figsize=(12,4))\n",
    "ax1 = f.add_subplot(121)\n",
    "ax2 = f.add_subplot(122)\n",
    "ax1.plot(log.history['loss'], label='Training loss')\n",
    "ax1.plot(log.history['val_loss'], label='Testing loss')\n",
    "ax1.legend()\n",
    "ax1.grid()\n",
    "ax2.plot(log.history['accuracy'], label='Training acc')\n",
    "ax2.plot(log.history['val_accuracy'], label='Testing acc')\n",
    "ax2.legend()\n",
    "ax2.grid()"
   ],
   "metadata": {
    "collapsed": false,
    "ExecuteTime": {
     "end_time": "2024-05-01T12:33:37.877332600Z",
     "start_time": "2024-05-01T12:33:37.104398800Z"
    }
   },
   "execution_count": 7
  },
  {
   "cell_type": "code",
   "outputs": [
    {
     "name": "stdout",
     "output_type": "stream",
     "text": [
      "Train accuracy : 0.09861999750137329\n",
      "Test accuracy: 0.10000000149011612\n"
     ]
    }
   ],
   "source": [
    "train_acc = log.history[\"accuracy\"]\n",
    "loss_test, metric_test = model.evaluate(X_test, Y_test, verbose=0)\n",
    "print(f'Train accuracy : {train_acc[-1]}')\n",
    "print('Test accuracy:', metric_test)"
   ],
   "metadata": {
    "collapsed": false,
    "ExecuteTime": {
     "end_time": "2024-05-01T12:33:47.143535200Z",
     "start_time": "2024-05-01T12:33:37.871298200Z"
    }
   },
   "execution_count": 8
  }
 ],
 "metadata": {
  "accelerator": "GPU",
  "colab": {
   "gpuType": "T4",
   "provenance": []
  },
  "kernelspec": {
   "name": "python3",
   "language": "python",
   "display_name": "Python 3 (ipykernel)"
  },
  "language_info": {
   "name": "python"
  }
 },
 "nbformat": 4,
 "nbformat_minor": 0
}
