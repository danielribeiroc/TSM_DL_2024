{
 "cells": [
  {
   "cell_type": "markdown",
   "source": [
    "# Functional API model : SPVGGNet"
   ],
   "metadata": {
    "collapsed": false
   }
  },
  {
   "cell_type": "markdown",
   "source": [
    "### Imports"
   ],
   "metadata": {
    "collapsed": false
   }
  },
  {
   "cell_type": "code",
   "outputs": [],
   "source": [
    "import tensorflow as tf\n",
    "import matplotlib.pyplot as plt\n",
    "\n",
    "from tensorflow.keras.layers import Input, Conv2D, Activation, BatchNormalization, MaxPooling2D, Dropout, Flatten, Dense\n",
    "from tensorflow.keras.models import Model\n",
    "from tensorflow.keras.optimizers import Adam\n",
    "from tensorflow.keras import utils\n",
    "from tensorflow.keras.models import Model\n",
    "from tensorflow.keras.callbacks import ModelCheckpoint\n",
    "from tensorflow.keras.datasets import cifar10\n",
    "from tensorflow.keras.utils import to_categorical\n",
    "from tensorflow.keras.optimizers import Adam\n",
    "import numpy as np\n",
    "from tensorflow.keras.models import Sequential"
   ],
   "metadata": {
    "collapsed": false,
    "ExecuteTime": {
     "end_time": "2024-05-01T07:52:22.279503100Z",
     "start_time": "2024-05-01T07:52:22.188372200Z"
    }
   },
   "execution_count": 6
  },
  {
   "cell_type": "markdown",
   "source": [
    "### Instanciate GPU"
   ],
   "metadata": {
    "collapsed": false
   }
  },
  {
   "cell_type": "code",
   "outputs": [
    {
     "name": "stdout",
     "output_type": "stream",
     "text": [
      "Num GPUs Available:  1\n"
     ]
    }
   ],
   "source": [
    "#use gpu\n",
    "physical_devices = tf.config.experimental.list_physical_devices('GPU')\n",
    "print(\"Num GPUs Available: \", len(physical_devices))\n",
    "tf.config.experimental.set_memory_growth(physical_devices[0], True)"
   ],
   "metadata": {
    "collapsed": false,
    "ExecuteTime": {
     "end_time": "2024-05-01T07:52:22.284504200Z",
     "start_time": "2024-05-01T07:52:22.232462500Z"
    }
   },
   "execution_count": 7
  },
  {
   "cell_type": "markdown",
   "source": [
    "### Process data"
   ],
   "metadata": {
    "collapsed": false
   }
  },
  {
   "cell_type": "code",
   "outputs": [
    {
     "name": "stdout",
     "output_type": "stream",
     "text": [
      "original data type :  uint8\n",
      "original data range [ 0 , 255 ]\n",
      "\n",
      "converted data type :  float32\n",
      "converted data range [ 0.0 , 1.0 ]\n",
      "\n",
      "training data shape :  (50000, 32, 32, 3)\n",
      "testing data shape  :  (10000, 32, 32, 3)\n"
     ]
    }
   ],
   "source": [
    "(X_train, y_train), (X_test, y_test) = cifar10.load_data()\n",
    "\n",
    "print('original data type : ', X_train.dtype)\n",
    "print('original data range [', np.min(X_train), ',', np.max(X_train),']')\n",
    "\n",
    "X_train = X_train.astype('float32')\n",
    "X_test = X_test.astype('float32')\n",
    "X_train /= 255.0\n",
    "X_test /= 255.0\n",
    "\n",
    "print('\\nconverted data type : ', X_train.dtype)\n",
    "print('converted data range [', np.min(X_train), ',', np.max(X_train),']')\n",
    "\n",
    "print('\\ntraining data shape : ', X_train.shape)\n",
    "print('testing data shape  : ', X_test.shape)"
   ],
   "metadata": {
    "collapsed": false,
    "ExecuteTime": {
     "end_time": "2024-05-01T07:52:24.314549500Z",
     "start_time": "2024-05-01T07:52:22.291506Z"
    }
   },
   "execution_count": 8
  },
  {
   "cell_type": "code",
   "outputs": [
    {
     "name": "stdout",
     "output_type": "stream",
     "text": [
      "[[0. 0. 0. 0. 0. 0. 1. 0. 0. 0.]\n",
      " [0. 0. 0. 0. 0. 0. 0. 0. 0. 1.]\n",
      " [0. 0. 0. 0. 0. 0. 0. 0. 0. 1.]\n",
      " [0. 0. 0. 0. 1. 0. 0. 0. 0. 0.]\n",
      " [0. 1. 0. 0. 0. 0. 0. 0. 0. 0.]\n",
      " [0. 1. 0. 0. 0. 0. 0. 0. 0. 0.]\n",
      " [0. 0. 1. 0. 0. 0. 0. 0. 0. 0.]\n",
      " [0. 0. 0. 0. 0. 0. 0. 1. 0. 0.]\n",
      " [0. 0. 0. 0. 0. 0. 0. 0. 1. 0.]\n",
      " [0. 0. 0. 1. 0. 0. 0. 0. 0. 0.]]\n"
     ]
    }
   ],
   "source": [
    "n_classes = 10\n",
    "Y_train = utils.to_categorical(y_train, n_classes)\n",
    "Y_test = utils.to_categorical(y_test, n_classes)\n",
    "print(Y_train[:10])"
   ],
   "metadata": {
    "collapsed": false,
    "ExecuteTime": {
     "end_time": "2024-05-01T07:52:24.340583800Z",
     "start_time": "2024-05-01T07:52:24.315541200Z"
    }
   },
   "execution_count": 9
  },
  {
   "cell_type": "markdown",
   "source": [
    "### Create model"
   ],
   "metadata": {
    "collapsed": false
   }
  },
  {
   "cell_type": "code",
   "outputs": [
    {
     "name": "stdout",
     "output_type": "stream",
     "text": [
      "Model: \"model\"\n",
      "_________________________________________________________________\n",
      " Layer (type)                Output Shape              Param #   \n",
      "=================================================================\n",
      " input_1 (InputLayer)        [(None, 32, 32, 3)]       0         \n",
      "                                                                 \n",
      " conv2d_0 (Conv2D)           (None, 32, 32, 64)        1792      \n",
      "                                                                 \n",
      " activation_0 (Activation)   (None, 32, 32, 64)        0         \n",
      "                                                                 \n",
      " batch_normalization_0 (Batc  (None, 32, 32, 64)       256       \n",
      " hNormalization)                                                 \n",
      "                                                                 \n",
      " conv2d_1 (Conv2D)           (None, 32, 32, 64)        36928     \n",
      "                                                                 \n",
      " activation_1 (Activation)   (None, 32, 32, 64)        0         \n",
      "                                                                 \n",
      " batch_normalization_1 (Batc  (None, 32, 32, 64)       256       \n",
      " hNormalization)                                                 \n",
      "                                                                 \n",
      " conv2d_2 (Conv2D)           (None, 32, 32, 64)        36928     \n",
      "                                                                 \n",
      " activation_2 (Activation)   (None, 32, 32, 64)        0         \n",
      "                                                                 \n",
      " batch_normalization_2 (Batc  (None, 32, 32, 64)       256       \n",
      " hNormalization)                                                 \n",
      "                                                                 \n",
      " max_pooling2d_0 (MaxPooling  (None, 16, 16, 64)       0         \n",
      " 2D)                                                             \n",
      "                                                                 \n",
      " dropout_0 (Dropout)         (None, 16, 16, 64)        0         \n",
      "                                                                 \n",
      " conv2d_3 (Conv2D)           (None, 16, 16, 64)        36928     \n",
      "                                                                 \n",
      " activation_3 (Activation)   (None, 16, 16, 64)        0         \n",
      "                                                                 \n",
      " batch_normalization_3 (Batc  (None, 16, 16, 64)       256       \n",
      " hNormalization)                                                 \n",
      "                                                                 \n",
      " conv2d_4 (Conv2D)           (None, 16, 16, 64)        36928     \n",
      "                                                                 \n",
      " activation_4 (Activation)   (None, 16, 16, 64)        0         \n",
      "                                                                 \n",
      " batch_normalization_4 (Batc  (None, 16, 16, 64)       256       \n",
      " hNormalization)                                                 \n",
      "                                                                 \n",
      " conv2d_5 (Conv2D)           (None, 16, 16, 64)        36928     \n",
      "                                                                 \n",
      " activation_5 (Activation)   (None, 16, 16, 64)        0         \n",
      "                                                                 \n",
      " batch_normalization_5 (Batc  (None, 16, 16, 64)       256       \n",
      " hNormalization)                                                 \n",
      "                                                                 \n",
      " max_pooling2d_1 (MaxPooling  (None, 8, 8, 64)         0         \n",
      " 2D)                                                             \n",
      "                                                                 \n",
      " dropout_1 (Dropout)         (None, 8, 8, 64)          0         \n",
      "                                                                 \n",
      " conv2d_6 (Conv2D)           (None, 8, 8, 64)          36928     \n",
      "                                                                 \n",
      " activation_6 (Activation)   (None, 8, 8, 64)          0         \n",
      "                                                                 \n",
      " batch_normalization_6 (Batc  (None, 8, 8, 64)         256       \n",
      " hNormalization)                                                 \n",
      "                                                                 \n",
      " conv2d_7 (Conv2D)           (None, 8, 8, 64)          36928     \n",
      "                                                                 \n",
      " activation_7 (Activation)   (None, 8, 8, 64)          0         \n",
      "                                                                 \n",
      " batch_normalization_7 (Batc  (None, 8, 8, 64)         256       \n",
      " hNormalization)                                                 \n",
      "                                                                 \n",
      " conv2d_8 (Conv2D)           (None, 8, 8, 64)          36928     \n",
      "                                                                 \n",
      " activation_8 (Activation)   (None, 8, 8, 64)          0         \n",
      "                                                                 \n",
      " batch_normalization_8 (Batc  (None, 8, 8, 64)         256       \n",
      " hNormalization)                                                 \n",
      "                                                                 \n",
      " max_pooling2d_2 (MaxPooling  (None, 4, 4, 64)         0         \n",
      " 2D)                                                             \n",
      "                                                                 \n",
      " dropout_2 (Dropout)         (None, 4, 4, 64)          0         \n",
      "                                                                 \n",
      " conv2d_9 (Conv2D)           (None, 4, 4, 64)          36928     \n",
      "                                                                 \n",
      " activation_9 (Activation)   (None, 4, 4, 64)          0         \n",
      "                                                                 \n",
      " batch_normalization_9 (Batc  (None, 4, 4, 64)         256       \n",
      " hNormalization)                                                 \n",
      "                                                                 \n",
      " conv2d_10 (Conv2D)          (None, 4, 4, 64)          36928     \n",
      "                                                                 \n",
      " activation_10 (Activation)  (None, 4, 4, 64)          0         \n",
      "                                                                 \n",
      " batch_normalization_10 (Bat  (None, 4, 4, 64)         256       \n",
      " chNormalization)                                                \n",
      "                                                                 \n",
      " conv2d_11 (Conv2D)          (None, 4, 4, 64)          36928     \n",
      "                                                                 \n",
      " activation_11 (Activation)  (None, 4, 4, 64)          0         \n",
      "                                                                 \n",
      " batch_normalization_11 (Bat  (None, 4, 4, 64)         256       \n",
      " chNormalization)                                                \n",
      "                                                                 \n",
      " max_pooling2d_3 (MaxPooling  (None, 2, 2, 64)         0         \n",
      " 2D)                                                             \n",
      "                                                                 \n",
      " dropout_3 (Dropout)         (None, 2, 2, 64)          0         \n",
      "                                                                 \n",
      " flatten (Flatten)           (None, 256)               0         \n",
      "                                                                 \n",
      " dense_1 (Dense)             (None, 256)               65792     \n",
      "                                                                 \n",
      " dropout_final (Dropout)     (None, 256)               0         \n",
      "                                                                 \n",
      " outputs (Dense)             (None, 10)                2570      \n",
      "                                                                 \n",
      "=================================================================\n",
      "Total params: 479,434\n",
      "Trainable params: 477,898\n",
      "Non-trainable params: 1,536\n",
      "_________________________________________________________________\n"
     ]
    }
   ],
   "source": [
    "input_shape = X_train.shape[1:]\n",
    "\n",
    "inputs = Input(shape=input_shape)\n",
    "x = inputs\n",
    "for block in range(4):  # 4 blocks\n",
    "    for layer in range(3):  # 3 Conv2D → relu → BN\n",
    "        x = Conv2D(64, (3, 3), padding='same', strides=1, name=f'conv2d_{block*3+layer}')(x)\n",
    "        x = Activation('relu', name=f'activation_{block*3+layer}')(x)\n",
    "        x = BatchNormalization(name=f'batch_normalization_{block*3+layer}')(x)\n",
    "    x = MaxPooling2D(pool_size=(2, 2), strides=2, name=f'max_pooling2d_{block}')(x)\n",
    "    x = Dropout(0.3, name=f'dropout_{block}')(x)\n",
    "\n",
    "flatten = Flatten(name='flatten')(x)\n",
    "dense = Dense(256, activation='relu', name='dense_1')(flatten)\n",
    "dropout = Dropout(0.3, name='dropout_final')(dense)\n",
    "outputs = Dense(n_classes, activation='softmax', name='outputs')(dropout)\n",
    "\n",
    "model = Model(inputs, outputs)\n",
    "\n",
    "\n",
    "model.compile(optimizer=Adam(learning_rate=0.001),\n",
    "              loss='categorical_crossentropy',\n",
    "              metrics=['accuracy'])\n",
    "\n",
    "model.summary()"
   ],
   "metadata": {
    "colab": {
     "base_uri": "https://localhost:8080/"
    },
    "id": "3Wju2m4LU6Bd",
    "outputId": "53702cbf-baaf-4923-951d-4a4f84c0d91f",
    "ExecuteTime": {
     "end_time": "2024-05-01T07:52:25.611791400Z",
     "start_time": "2024-05-01T07:52:24.351190600Z"
    }
   },
   "execution_count": 10
  },
  {
   "cell_type": "markdown",
   "source": [
    "### Train model"
   ],
   "metadata": {
    "collapsed": false
   }
  },
  {
   "cell_type": "code",
   "outputs": [
    {
     "name": "stdout",
     "output_type": "stream",
     "text": [
      "Epoch 1/10\n",
      "782/782 [==============================] - ETA: 0s - loss: 1.7332 - accuracy: 0.3687\n",
      "Epoch 1: val_accuracy improved from -inf to 0.47430, saving model to best_model_b.h5\n",
      "782/782 [==============================] - 58s 68ms/step - loss: 1.7332 - accuracy: 0.3687 - val_loss: 1.4267 - val_accuracy: 0.4743\n",
      "Epoch 2/10\n",
      "782/782 [==============================] - ETA: 0s - loss: 1.2044 - accuracy: 0.5699\n",
      "Epoch 2: val_accuracy improved from 0.47430 to 0.55230, saving model to best_model_b.h5\n",
      "782/782 [==============================] - 50s 64ms/step - loss: 1.2044 - accuracy: 0.5699 - val_loss: 1.2714 - val_accuracy: 0.5523\n",
      "Epoch 3/10\n",
      "782/782 [==============================] - ETA: 0s - loss: 0.9800 - accuracy: 0.6562\n",
      "Epoch 3: val_accuracy improved from 0.55230 to 0.66000, saving model to best_model_b.h5\n",
      "782/782 [==============================] - 113s 145ms/step - loss: 0.9800 - accuracy: 0.6562 - val_loss: 1.0051 - val_accuracy: 0.6600\n",
      "Epoch 4/10\n",
      "781/782 [============================>.] - ETA: 0s - loss: 0.8420 - accuracy: 0.7110\n",
      "Epoch 4: val_accuracy improved from 0.66000 to 0.73660, saving model to best_model_b.h5\n",
      "782/782 [==============================] - 114s 145ms/step - loss: 0.8423 - accuracy: 0.7109 - val_loss: 0.7636 - val_accuracy: 0.7366\n",
      "Epoch 5/10\n",
      "781/782 [============================>.] - ETA: 0s - loss: 0.7463 - accuracy: 0.7466\n",
      "Epoch 5: val_accuracy did not improve from 0.73660\n",
      "782/782 [==============================] - 111s 142ms/step - loss: 0.7463 - accuracy: 0.7466 - val_loss: 0.7939 - val_accuracy: 0.7361\n",
      "Epoch 6/10\n",
      "782/782 [==============================] - ETA: 0s - loss: 0.6805 - accuracy: 0.7686\n",
      "Epoch 6: val_accuracy improved from 0.73660 to 0.76970, saving model to best_model_b.h5\n",
      "782/782 [==============================] - 103s 131ms/step - loss: 0.6805 - accuracy: 0.7686 - val_loss: 0.6711 - val_accuracy: 0.7697\n",
      "Epoch 7/10\n",
      "782/782 [==============================] - ETA: 0s - loss: 0.6215 - accuracy: 0.7902\n",
      "Epoch 7: val_accuracy did not improve from 0.76970\n",
      "782/782 [==============================] - 106s 135ms/step - loss: 0.6215 - accuracy: 0.7902 - val_loss: 0.7808 - val_accuracy: 0.7495\n",
      "Epoch 8/10\n",
      "782/782 [==============================] - ETA: 0s - loss: 0.5834 - accuracy: 0.8022\n",
      "Epoch 8: val_accuracy did not improve from 0.76970\n",
      "782/782 [==============================] - 119s 152ms/step - loss: 0.5834 - accuracy: 0.8022 - val_loss: 0.7348 - val_accuracy: 0.7507\n",
      "Epoch 9/10\n",
      "782/782 [==============================] - ETA: 0s - loss: 0.5388 - accuracy: 0.8176\n",
      "Epoch 9: val_accuracy improved from 0.76970 to 0.79450, saving model to best_model_b.h5\n",
      "782/782 [==============================] - 109s 140ms/step - loss: 0.5388 - accuracy: 0.8176 - val_loss: 0.6444 - val_accuracy: 0.7945\n",
      "Epoch 10/10\n",
      "782/782 [==============================] - ETA: 0s - loss: 0.4998 - accuracy: 0.8321\n",
      "Epoch 10: val_accuracy improved from 0.79450 to 0.81680, saving model to best_model_b.h5\n",
      "782/782 [==============================] - 55s 70ms/step - loss: 0.4998 - accuracy: 0.8321 - val_loss: 0.5495 - val_accuracy: 0.8168\n"
     ]
    }
   ],
   "source": [
    "E = 10                # number of epochs\n",
    "B = 64                # batch size\n",
    "V = 0.2               # validation split\n",
    "\n",
    "checkpoint_callback = ModelCheckpoint(\n",
    "    'best_model_b.h5',\n",
    "    monitor='val_accuracy',\n",
    "    save_best_only=True,\n",
    "    verbose=1\n",
    ")\n",
    "\n",
    "log = model.fit(X_train, Y_train, batch_size=B, epochs=E,\n",
    "               verbose=1, validation_data=(X_test, Y_test),callbacks=[checkpoint_callback])"
   ],
   "metadata": {
    "collapsed": false,
    "ExecuteTime": {
     "end_time": "2024-05-01T08:08:05.882591300Z",
     "start_time": "2024-05-01T07:52:25.600598700Z"
    }
   },
   "execution_count": 11
  },
  {
   "cell_type": "markdown",
   "source": [
    "### Evaluate model"
   ],
   "metadata": {
    "collapsed": false
   }
  },
  {
   "cell_type": "code",
   "outputs": [
    {
     "data": {
      "text/plain": "<Figure size 1200x400 with 2 Axes>",
      "image/png": "[encoded data removed]"
     },
     "metadata": {},
     "output_type": "display_data"
    }
   ],
   "source": [
    "f = plt.figure(figsize=(12,4))\n",
    "ax1 = f.add_subplot(121)\n",
    "ax2 = f.add_subplot(122)\n",
    "ax1.plot(log.history['loss'], label='Training loss')\n",
    "ax1.plot(log.history['val_loss'], label='Testing loss')\n",
    "ax1.legend()\n",
    "ax1.grid()\n",
    "ax2.plot(log.history['accuracy'], label='Training acc')\n",
    "ax2.plot(log.history['val_accuracy'], label='Testing acc')\n",
    "ax2.legend()\n",
    "ax2.grid()"
   ],
   "metadata": {
    "collapsed": false,
    "ExecuteTime": {
     "end_time": "2024-05-01T08:08:06.520609800Z",
     "start_time": "2024-05-01T08:08:05.876590200Z"
    }
   },
   "execution_count": 12
  },
  {
   "cell_type": "code",
   "outputs": [
    {
     "name": "stdout",
     "output_type": "stream",
     "text": [
      "Train accuracy : 0.832099974155426\n",
      "Test accuracy: 0.8167999982833862\n"
     ]
    }
   ],
   "source": [
    "train_acc = log.history[\"accuracy\"]\n",
    "loss_test, metric_test = model.evaluate(X_test, Y_test, verbose=0)\n",
    "print(f'Train accuracy : {train_acc[-1]}')\n",
    "print('Test accuracy:', metric_test)"
   ],
   "metadata": {
    "collapsed": false,
    "ExecuteTime": {
     "end_time": "2024-05-01T08:10:39.613750500Z",
     "start_time": "2024-05-01T08:10:31.457637700Z"
    }
   },
   "execution_count": 14
  }
 ],
 "metadata": {
  "accelerator": "GPU",
  "colab": {
   "gpuType": "T4",
   "provenance": []
  },
  "kernelspec": {
   "name": "python3",
   "language": "python",
   "display_name": "Python 3 (ipykernel)"
  },
  "language_info": {
   "name": "python"
  }
 },
 "nbformat": 4,
 "nbformat_minor": 0
}
