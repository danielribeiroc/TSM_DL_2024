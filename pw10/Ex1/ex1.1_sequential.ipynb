{
 "cells": [
  {
   "cell_type": "markdown",
   "source": [
    "# Sequential model"
   ],
   "metadata": {
    "collapsed": false
   }
  },
  {
   "cell_type": "markdown",
   "source": [
    "### Imports"
   ],
   "metadata": {
    "collapsed": false
   }
  },
  {
   "cell_type": "code",
   "outputs": [],
   "source": [
    "import numpy as np\n",
    "import tensorflow as tf\n",
    "import matplotlib.pyplot as plt\n",
    "from tensorflow.keras.layers import Input, Conv2D, BatchNormalization, Activation, MaxPooling2D, Dropout, Flatten, Dense\n",
    "from tensorflow.keras import utils\n",
    "from tensorflow.keras.models import Model\n",
    "from tensorflow.keras.datasets import cifar10\n",
    "from tensorflow.keras.utils import to_categorical\n",
    "from tensorflow.keras.optimizers import Adam\n",
    "from tensorflow.keras.callbacks import ModelCheckpoint\n",
    "from tensorflow.keras.models import Sequential"
   ],
   "metadata": {
    "collapsed": false,
    "ExecuteTime": {
     "end_time": "2024-05-01T07:23:14.549996900Z",
     "start_time": "2024-05-01T07:23:06.418553800Z"
    }
   },
   "execution_count": 2
  },
  {
   "cell_type": "markdown",
   "source": [
    "### Instanciate GPU"
   ],
   "metadata": {
    "collapsed": false
   }
  },
  {
   "cell_type": "code",
   "outputs": [
    {
     "name": "stdout",
     "output_type": "stream",
     "text": [
      "Num GPUs Available:  1\n"
     ]
    }
   ],
   "source": [
    "#use gpu\n",
    "physical_devices = tf.config.experimental.list_physical_devices('GPU')\n",
    "print(\"Num GPUs Available: \", len(physical_devices))\n",
    "tf.config.experimental.set_memory_growth(physical_devices[0], True)\n"
   ],
   "metadata": {
    "collapsed": false,
    "ExecuteTime": {
     "end_time": "2024-05-01T07:23:16.753910500Z",
     "start_time": "2024-05-01T07:23:14.550996300Z"
    }
   },
   "execution_count": 3
  },
  {
   "cell_type": "markdown",
   "source": [
    "### Process data"
   ],
   "metadata": {
    "collapsed": false
   }
  },
  {
   "cell_type": "code",
   "outputs": [
    {
     "name": "stdout",
     "output_type": "stream",
     "text": [
      "original data type :  uint8\n",
      "original data range [ 0 , 255 ]\n",
      "\n",
      "converted data type :  float32\n",
      "converted data range [ 0.0 , 1.0 ]\n",
      "\n",
      "training data shape :  (50000, 32, 32, 3)\n",
      "testing data shape  :  (10000, 32, 32, 3)\n"
     ]
    }
   ],
   "source": [
    "(X_train, y_train), (X_test, y_test) = cifar10.load_data()\n",
    "\n",
    "print('original data type : ', X_train.dtype)\n",
    "print('original data range [', np.min(X_train), ',', np.max(X_train),']')\n",
    "\n",
    "X_train = X_train.astype('float32')\n",
    "X_test = X_test.astype('float32')\n",
    "X_train /= 255.0\n",
    "X_test /= 255.0\n",
    "\n",
    "print('\\nconverted data type : ', X_train.dtype)\n",
    "print('converted data range [', np.min(X_train), ',', np.max(X_train),']')\n",
    "\n",
    "print('\\ntraining data shape : ', X_train.shape)\n",
    "print('testing data shape  : ', X_test.shape)"
   ],
   "metadata": {
    "collapsed": false,
    "ExecuteTime": {
     "end_time": "2024-05-01T07:23:17.556277800Z",
     "start_time": "2024-05-01T07:23:16.744908500Z"
    }
   },
   "execution_count": 4
  },
  {
   "cell_type": "code",
   "outputs": [
    {
     "name": "stdout",
     "output_type": "stream",
     "text": [
      "[[0. 0. 0. 0. 0. 0. 1. 0. 0. 0.]\n",
      " [0. 0. 0. 0. 0. 0. 0. 0. 0. 1.]\n",
      " [0. 0. 0. 0. 0. 0. 0. 0. 0. 1.]\n",
      " [0. 0. 0. 0. 1. 0. 0. 0. 0. 0.]\n",
      " [0. 1. 0. 0. 0. 0. 0. 0. 0. 0.]\n",
      " [0. 1. 0. 0. 0. 0. 0. 0. 0. 0.]\n",
      " [0. 0. 1. 0. 0. 0. 0. 0. 0. 0.]\n",
      " [0. 0. 0. 0. 0. 0. 0. 1. 0. 0.]\n",
      " [0. 0. 0. 0. 0. 0. 0. 0. 1. 0.]\n",
      " [0. 0. 0. 1. 0. 0. 0. 0. 0. 0.]]\n"
     ]
    }
   ],
   "source": [
    "n_classes = 10\n",
    "Y_train = utils.to_categorical(y_train, n_classes)\n",
    "Y_test = utils.to_categorical(y_test, n_classes)\n",
    "print(Y_train[:10])"
   ],
   "metadata": {
    "collapsed": false,
    "ExecuteTime": {
     "end_time": "2024-05-01T07:23:17.580280700Z",
     "start_time": "2024-05-01T07:23:17.557281400Z"
    }
   },
   "execution_count": 5
  },
  {
   "cell_type": "markdown",
   "source": [
    "### Create model"
   ],
   "metadata": {
    "collapsed": false
   }
  },
  {
   "cell_type": "code",
   "outputs": [
    {
     "name": "stdout",
     "output_type": "stream",
     "text": [
      "Model: \"sequential\"\n",
      "_________________________________________________________________\n",
      " Layer (type)                Output Shape              Param #   \n",
      "=================================================================\n",
      " conv2d_0 (Conv2D)           (None, 32, 32, 64)        1792      \n",
      "                                                                 \n",
      " activation_0 (Activation)   (None, 32, 32, 64)        0         \n",
      "                                                                 \n",
      " batch_normalization_0 (Batc  (None, 32, 32, 64)       256       \n",
      " hNormalization)                                                 \n",
      "                                                                 \n",
      " conv2d_1 (Conv2D)           (None, 32, 32, 64)        36928     \n",
      "                                                                 \n",
      " activation_1 (Activation)   (None, 32, 32, 64)        0         \n",
      "                                                                 \n",
      " batch_normalization_1 (Batc  (None, 32, 32, 64)       256       \n",
      " hNormalization)                                                 \n",
      "                                                                 \n",
      " conv2d_2 (Conv2D)           (None, 32, 32, 64)        36928     \n",
      "                                                                 \n",
      " activation_2 (Activation)   (None, 32, 32, 64)        0         \n",
      "                                                                 \n",
      " batch_normalization_2 (Batc  (None, 32, 32, 64)       256       \n",
      " hNormalization)                                                 \n",
      "                                                                 \n",
      " max_pooling2d_0 (MaxPooling  (None, 16, 16, 64)       0         \n",
      " 2D)                                                             \n",
      "                                                                 \n",
      " dropout_0 (Dropout)         (None, 16, 16, 64)        0         \n",
      "                                                                 \n",
      " conv2d_3 (Conv2D)           (None, 16, 16, 64)        36928     \n",
      "                                                                 \n",
      " activation_3 (Activation)   (None, 16, 16, 64)        0         \n",
      "                                                                 \n",
      " batch_normalization_3 (Batc  (None, 16, 16, 64)       256       \n",
      " hNormalization)                                                 \n",
      "                                                                 \n",
      " conv2d_4 (Conv2D)           (None, 16, 16, 64)        36928     \n",
      "                                                                 \n",
      " activation_4 (Activation)   (None, 16, 16, 64)        0         \n",
      "                                                                 \n",
      " batch_normalization_4 (Batc  (None, 16, 16, 64)       256       \n",
      " hNormalization)                                                 \n",
      "                                                                 \n",
      " conv2d_5 (Conv2D)           (None, 16, 16, 64)        36928     \n",
      "                                                                 \n",
      " activation_5 (Activation)   (None, 16, 16, 64)        0         \n",
      "                                                                 \n",
      " batch_normalization_5 (Batc  (None, 16, 16, 64)       256       \n",
      " hNormalization)                                                 \n",
      "                                                                 \n",
      " max_pooling2d_1 (MaxPooling  (None, 8, 8, 64)         0         \n",
      " 2D)                                                             \n",
      "                                                                 \n",
      " dropout_1 (Dropout)         (None, 8, 8, 64)          0         \n",
      "                                                                 \n",
      " conv2d_6 (Conv2D)           (None, 8, 8, 64)          36928     \n",
      "                                                                 \n",
      " activation_6 (Activation)   (None, 8, 8, 64)          0         \n",
      "                                                                 \n",
      " batch_normalization_6 (Batc  (None, 8, 8, 64)         256       \n",
      " hNormalization)                                                 \n",
      "                                                                 \n",
      " conv2d_7 (Conv2D)           (None, 8, 8, 64)          36928     \n",
      "                                                                 \n",
      " activation_7 (Activation)   (None, 8, 8, 64)          0         \n",
      "                                                                 \n",
      " batch_normalization_7 (Batc  (None, 8, 8, 64)         256       \n",
      " hNormalization)                                                 \n",
      "                                                                 \n",
      " conv2d_8 (Conv2D)           (None, 8, 8, 64)          36928     \n",
      "                                                                 \n",
      " activation_8 (Activation)   (None, 8, 8, 64)          0         \n",
      "                                                                 \n",
      " batch_normalization_8 (Batc  (None, 8, 8, 64)         256       \n",
      " hNormalization)                                                 \n",
      "                                                                 \n",
      " max_pooling2d_2 (MaxPooling  (None, 4, 4, 64)         0         \n",
      " 2D)                                                             \n",
      "                                                                 \n",
      " dropout_2 (Dropout)         (None, 4, 4, 64)          0         \n",
      "                                                                 \n",
      " conv2d_9 (Conv2D)           (None, 4, 4, 64)          36928     \n",
      "                                                                 \n",
      " activation_9 (Activation)   (None, 4, 4, 64)          0         \n",
      "                                                                 \n",
      " batch_normalization_9 (Batc  (None, 4, 4, 64)         256       \n",
      " hNormalization)                                                 \n",
      "                                                                 \n",
      " conv2d_10 (Conv2D)          (None, 4, 4, 64)          36928     \n",
      "                                                                 \n",
      " activation_10 (Activation)  (None, 4, 4, 64)          0         \n",
      "                                                                 \n",
      " batch_normalization_10 (Bat  (None, 4, 4, 64)         256       \n",
      " chNormalization)                                                \n",
      "                                                                 \n",
      " conv2d_11 (Conv2D)          (None, 4, 4, 64)          36928     \n",
      "                                                                 \n",
      " activation_11 (Activation)  (None, 4, 4, 64)          0         \n",
      "                                                                 \n",
      " batch_normalization_11 (Bat  (None, 4, 4, 64)         256       \n",
      " chNormalization)                                                \n",
      "                                                                 \n",
      " max_pooling2d_3 (MaxPooling  (None, 2, 2, 64)         0         \n",
      " 2D)                                                             \n",
      "                                                                 \n",
      " dropout_3 (Dropout)         (None, 2, 2, 64)          0         \n",
      "                                                                 \n",
      " flatten (Flatten)           (None, 256)               0         \n",
      "                                                                 \n",
      " dense_1 (Dense)             (None, 256)               65792     \n",
      "                                                                 \n",
      " dropout_final (Dropout)     (None, 256)               0         \n",
      "                                                                 \n",
      " outputs (Dense)             (None, 10)                2570      \n",
      "                                                                 \n",
      "=================================================================\n",
      "Total params: 479,434\n",
      "Trainable params: 477,898\n",
      "Non-trainable params: 1,536\n",
      "_________________________________________________________________\n"
     ]
    }
   ],
   "source": [
    "model = Sequential()\n",
    "\n",
    "input_shape = X_train.shape[1:]\n",
    "\n",
    "# Integrate the initial layer setup inside the loop by using a flag or condition\n",
    "first_layer_added = False\n",
    "\n",
    "for block in range(4):  # 4 blocks\n",
    "    for layer in range(3):  # 3 Conv2D → relu → BN per block\n",
    "        if not first_layer_added:\n",
    "            # Add the first Conv2D with the input_shape defined\n",
    "            model.add(Conv2D(64, (3, 3), padding='same', strides=1, input_shape=input_shape, name=f'conv2d_{block*3+layer}'))\n",
    "            first_layer_added = True\n",
    "        else:\n",
    "            # Subsequent Conv2D layers do not require input_shape\n",
    "            model.add(Conv2D(64, (3, 3), padding='same', strides=1, name=f'conv2d_{block*3+layer}'))\n",
    "        \n",
    "        model.add(Activation('relu', name=f'activation_{block*3+layer}'))\n",
    "        model.add(BatchNormalization(name=f'batch_normalization_{block*3+layer}'))\n",
    "    \n",
    "    model.add(MaxPooling2D(pool_size=(2, 2), strides=2, name=f'max_pooling2d_{block}'))\n",
    "    model.add(Dropout(0.3, name=f'dropout_{block}'))\n",
    "\n",
    "model.add(Flatten(name='flatten'))\n",
    "model.add(Dense(256, activation='relu', name='dense_1'))\n",
    "model.add(Dropout(0.3, name='dropout_final'))\n",
    "model.add(Dense(n_classes, activation='softmax', name='outputs'))\n",
    "\n",
    "# Compile the model\n",
    "model.compile(optimizer=Adam(learning_rate=0.001),\n",
    "              loss='categorical_crossentropy',\n",
    "              metrics=['accuracy'])\n",
    "\n",
    "# Print the model summary to verify the structure\n",
    "model.summary()"
   ],
   "metadata": {
    "colab": {
     "base_uri": "https://localhost:8080/"
    },
    "id": "3Wju2m4LU6Bd",
    "outputId": "53702cbf-baaf-4923-951d-4a4f84c0d91f",
    "ExecuteTime": {
     "end_time": "2024-05-01T07:23:19.173717400Z",
     "start_time": "2024-05-01T07:23:17.575281200Z"
    }
   },
   "execution_count": 6
  },
  {
   "cell_type": "markdown",
   "source": [
    "### Train model"
   ],
   "metadata": {
    "collapsed": false
   }
  },
  {
   "cell_type": "code",
   "outputs": [
    {
     "name": "stdout",
     "output_type": "stream",
     "text": [
      "Epoch 1/10\n",
      "782/782 [==============================] - ETA: 0s - loss: 1.7039 - accuracy: 0.3753\n",
      "Epoch 1: val_accuracy improved from -inf to 0.50220, saving model to best_model_a.h5\n",
      "782/782 [==============================] - 25s 29ms/step - loss: 1.7039 - accuracy: 0.3753 - val_loss: 1.4380 - val_accuracy: 0.5022\n",
      "Epoch 2/10\n",
      "781/782 [============================>.] - ETA: 0s - loss: 1.2084 - accuracy: 0.5705\n",
      "Epoch 2: val_accuracy improved from 0.50220 to 0.60660, saving model to best_model_a.h5\n",
      "782/782 [==============================] - 37s 48ms/step - loss: 1.2083 - accuracy: 0.5705 - val_loss: 1.1214 - val_accuracy: 0.6066\n",
      "Epoch 3/10\n",
      "782/782 [==============================] - ETA: 0s - loss: 0.9745 - accuracy: 0.6597\n",
      "Epoch 3: val_accuracy improved from 0.60660 to 0.68230, saving model to best_model_a.h5\n",
      "782/782 [==============================] - 33s 41ms/step - loss: 0.9745 - accuracy: 0.6597 - val_loss: 0.9164 - val_accuracy: 0.6823\n",
      "Epoch 4/10\n",
      "781/782 [============================>.] - ETA: 0s - loss: 0.8417 - accuracy: 0.7090\n",
      "Epoch 4: val_accuracy improved from 0.68230 to 0.71190, saving model to best_model_a.h5\n",
      "782/782 [==============================] - 25s 32ms/step - loss: 0.8419 - accuracy: 0.7090 - val_loss: 0.8436 - val_accuracy: 0.7119\n",
      "Epoch 5/10\n",
      "782/782 [==============================] - ETA: 0s - loss: 0.7547 - accuracy: 0.7414\n",
      "Epoch 5: val_accuracy improved from 0.71190 to 0.73720, saving model to best_model_a.h5\n",
      "782/782 [==============================] - 28s 36ms/step - loss: 0.7547 - accuracy: 0.7414 - val_loss: 0.7692 - val_accuracy: 0.7372\n",
      "Epoch 6/10\n",
      "782/782 [==============================] - ETA: 0s - loss: 0.6805 - accuracy: 0.7683\n",
      "Epoch 6: val_accuracy did not improve from 0.73720\n",
      "782/782 [==============================] - 28s 35ms/step - loss: 0.6805 - accuracy: 0.7683 - val_loss: 0.7852 - val_accuracy: 0.7364\n",
      "Epoch 7/10\n",
      "782/782 [==============================] - ETA: 0s - loss: 0.6190 - accuracy: 0.7895\n",
      "Epoch 7: val_accuracy improved from 0.73720 to 0.76570, saving model to best_model_a.h5\n",
      "782/782 [==============================] - 28s 36ms/step - loss: 0.6190 - accuracy: 0.7895 - val_loss: 0.7024 - val_accuracy: 0.7657\n",
      "Epoch 8/10\n",
      "781/782 [============================>.] - ETA: 0s - loss: 0.5848 - accuracy: 0.8021\n",
      "Epoch 8: val_accuracy improved from 0.76570 to 0.78730, saving model to best_model_a.h5\n",
      "782/782 [==============================] - 59s 75ms/step - loss: 0.5849 - accuracy: 0.8021 - val_loss: 0.6431 - val_accuracy: 0.7873\n",
      "Epoch 9/10\n",
      "782/782 [==============================] - ETA: 0s - loss: 0.5410 - accuracy: 0.8182\n",
      "Epoch 9: val_accuracy improved from 0.78730 to 0.80300, saving model to best_model_a.h5\n",
      "782/782 [==============================] - 51s 65ms/step - loss: 0.5410 - accuracy: 0.8182 - val_loss: 0.5827 - val_accuracy: 0.8030\n",
      "Epoch 10/10\n",
      "781/782 [============================>.] - ETA: 0s - loss: 0.5080 - accuracy: 0.8304\n",
      "Epoch 10: val_accuracy improved from 0.80300 to 0.80500, saving model to best_model_a.h5\n",
      "782/782 [==============================] - 28s 35ms/step - loss: 0.5079 - accuracy: 0.8305 - val_loss: 0.5884 - val_accuracy: 0.8050\n"
     ]
    }
   ],
   "source": [
    "E = 10                # number of epochs\n",
    "B = 64                # batch size\n",
    "V = 0.2               # validation split\n",
    "\n",
    "checkpoint_callback = ModelCheckpoint(\n",
    "    'best_model_a.h5',\n",
    "    monitor='val_accuracy',\n",
    "    save_best_only=True,\n",
    "    verbose=1\n",
    ")\n",
    "\n",
    "log = model.fit(X_train, Y_train, batch_size=B, epochs=E,\n",
    "               verbose=1, validation_data=(X_test, Y_test),callbacks=[checkpoint_callback])"
   ],
   "metadata": {
    "collapsed": false,
    "ExecuteTime": {
     "end_time": "2024-05-01T07:29:01.464380400Z",
     "start_time": "2024-05-01T07:23:19.116716600Z"
    }
   },
   "execution_count": 7
  },
  {
   "cell_type": "markdown",
   "source": [
    "### Evaluate model"
   ],
   "metadata": {
    "collapsed": false
   }
  },
  {
   "cell_type": "code",
   "outputs": [
    {
     "data": {
      "text/plain": "<Figure size 1200x400 with 2 Axes>",
      "image/png": "[encoded data removed]"
     },
     "metadata": {},
     "output_type": "display_data"
    }
   ],
   "source": [
    "f = plt.figure(figsize=(12,4))\n",
    "ax1 = f.add_subplot(121)\n",
    "ax2 = f.add_subplot(122)\n",
    "ax1.plot(log.history['loss'], label='Training loss')\n",
    "ax1.plot(log.history['val_loss'], label='Testing loss')\n",
    "ax1.legend()\n",
    "ax1.grid()\n",
    "ax2.plot(log.history['accuracy'], label='Training acc')\n",
    "ax2.plot(log.history['val_accuracy'], label='Testing acc')\n",
    "ax2.legend()\n",
    "ax2.grid()"
   ],
   "metadata": {
    "collapsed": false,
    "ExecuteTime": {
     "end_time": "2024-05-01T07:29:02.286978Z",
     "start_time": "2024-05-01T07:29:01.439215Z"
    }
   },
   "execution_count": 8
  },
  {
   "cell_type": "code",
   "outputs": [
    {
     "name": "stdout",
     "output_type": "stream",
     "text": [
      "Train accuracy : 0.8304600119590759\n",
      "Test accuracy: 0.8604000210762024\n"
     ]
    }
   ],
   "source": [
    "train_acc = log.history[\"accuracy\"]\n",
    "loss_test, metric_test = model.evaluate(X_test, Y_test, verbose=0)\n",
    "print(f'Train accuracy : {train_acc[-1]}')\n",
    "print('Test accuracy:', metric_test)"
   ],
   "metadata": {
    "collapsed": false,
    "ExecuteTime": {
     "end_time": "2024-05-01T07:47:52.205682Z",
     "start_time": "2024-05-01T07:47:44.453389600Z"
    }
   },
   "execution_count": 13
  }
 ],
 "metadata": {
  "accelerator": "GPU",
  "colab": {
   "gpuType": "T4",
   "provenance": []
  },
  "kernelspec": {
   "name": "python3",
   "language": "python",
   "display_name": "Python 3 (ipykernel)"
  },
  "language_info": {
   "name": "python"
  }
 },
 "nbformat": 4,
 "nbformat_minor": 0
}
