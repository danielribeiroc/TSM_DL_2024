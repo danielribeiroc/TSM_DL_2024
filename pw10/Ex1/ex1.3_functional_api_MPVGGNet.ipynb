{
 "cells": [
  {
   "cell_type": "markdown",
   "source": [
    "# Functional API model : MPVGGNet "
   ],
   "metadata": {
    "collapsed": false
   }
  },
  {
   "cell_type": "markdown",
   "source": [
    "### Imports"
   ],
   "metadata": {
    "collapsed": false
   }
  },
  {
   "cell_type": "code",
   "outputs": [],
   "source": [
    "import tensorflow as tf\n",
    "import matplotlib.pyplot as plt\n",
    "from tensorflow.keras.callbacks import ModelCheckpoint\n",
    "from tensorflow.keras.layers import concatenate, Input, Conv2D, BatchNormalization, Activation, MaxPooling2D, Dropout, \\\n",
    "    Flatten, Dense\n",
    "from tensorflow.keras import utils\n",
    "from tensorflow.keras.models import Model\n",
    "from tensorflow.keras.datasets import cifar10\n",
    "from tensorflow.keras.utils import to_categorical\n",
    "from tensorflow.keras.optimizers import Adam\n",
    "import numpy as np\n",
    "from tensorflow.keras.models import Sequential"
   ],
   "metadata": {
    "collapsed": false,
    "ExecuteTime": {
     "end_time": "2024-05-01T17:43:25.503600500Z",
     "start_time": "2024-05-01T17:43:15.912577600Z"
    }
   },
   "execution_count": 1
  },
  {
   "cell_type": "markdown",
   "source": [
    "### Instanciate GPU"
   ],
   "metadata": {
    "collapsed": false
   }
  },
  {
   "cell_type": "code",
   "outputs": [
    {
     "name": "stdout",
     "output_type": "stream",
     "text": [
      "Num GPUs Available:  1\n"
     ]
    }
   ],
   "source": [
    "#use gpu\n",
    "physical_devices = tf.config.experimental.list_physical_devices('GPU')\n",
    "print(\"Num GPUs Available: \", len(physical_devices))\n",
    "tf.config.experimental.set_memory_growth(physical_devices[0], True)\n"
   ],
   "metadata": {
    "collapsed": false,
    "ExecuteTime": {
     "end_time": "2024-05-01T17:43:27.669520Z",
     "start_time": "2024-05-01T17:43:25.505266500Z"
    }
   },
   "execution_count": 2
  },
  {
   "cell_type": "markdown",
   "source": [
    "### Process data"
   ],
   "metadata": {
    "collapsed": false
   }
  },
  {
   "cell_type": "code",
   "outputs": [
    {
     "name": "stdout",
     "output_type": "stream",
     "text": [
      "original data type :  uint8\n",
      "original data range [ 0 , 255 ]\n",
      "\n",
      "converted data type :  float32\n",
      "converted data range [ 0.0 , 1.0 ]\n",
      "\n",
      "training data shape :  (50000, 32, 32, 3)\n",
      "testing data shape  :  (10000, 32, 32, 3)\n"
     ]
    }
   ],
   "source": [
    "(X_train, y_train), (X_test, y_test) = cifar10.load_data()\n",
    "\n",
    "print('original data type : ', X_train.dtype)\n",
    "print('original data range [', np.min(X_train), ',', np.max(X_train), ']')\n",
    "\n",
    "X_train = X_train.astype('float32')\n",
    "X_test = X_test.astype('float32')\n",
    "X_train /= 255.0\n",
    "X_test /= 255.0\n",
    "\n",
    "print('\\nconverted data type : ', X_train.dtype)\n",
    "print('converted data range [', np.min(X_train), ',', np.max(X_train), ']')\n",
    "\n",
    "print('\\ntraining data shape : ', X_train.shape)\n",
    "print('testing data shape  : ', X_test.shape)"
   ],
   "metadata": {
    "collapsed": false,
    "ExecuteTime": {
     "end_time": "2024-05-01T17:43:28.467929300Z",
     "start_time": "2024-05-01T17:43:27.670519400Z"
    }
   },
   "execution_count": 3
  },
  {
   "cell_type": "code",
   "outputs": [
    {
     "name": "stdout",
     "output_type": "stream",
     "text": [
      "[[0. 0. 0. 0. 0. 0. 1. 0. 0. 0.]\n",
      " [0. 0. 0. 0. 0. 0. 0. 0. 0. 1.]\n",
      " [0. 0. 0. 0. 0. 0. 0. 0. 0. 1.]\n",
      " [0. 0. 0. 0. 1. 0. 0. 0. 0. 0.]\n",
      " [0. 1. 0. 0. 0. 0. 0. 0. 0. 0.]\n",
      " [0. 1. 0. 0. 0. 0. 0. 0. 0. 0.]\n",
      " [0. 0. 1. 0. 0. 0. 0. 0. 0. 0.]\n",
      " [0. 0. 0. 0. 0. 0. 0. 1. 0. 0.]\n",
      " [0. 0. 0. 0. 0. 0. 0. 0. 1. 0.]\n",
      " [0. 0. 0. 1. 0. 0. 0. 0. 0. 0.]]\n"
     ]
    }
   ],
   "source": [
    "n_classes = 10\n",
    "Y_train = utils.to_categorical(y_train, n_classes)\n",
    "Y_test = utils.to_categorical(y_test, n_classes)\n",
    "print(Y_train[:10])"
   ],
   "metadata": {
    "collapsed": false,
    "ExecuteTime": {
     "end_time": "2024-05-01T17:43:28.494930500Z",
     "start_time": "2024-05-01T17:43:28.462930100Z"
    }
   },
   "execution_count": 4
  },
  {
   "cell_type": "markdown",
   "source": [
    "### Create model"
   ],
   "metadata": {
    "collapsed": false
   }
  },
  {
   "cell_type": "code",
   "outputs": [],
   "source": [
    "input_shape = X_train.shape[1:]\n",
    "\n",
    "inputs = Input(shape=input_shape)\n",
    "\n",
    "path1 = inputs\n",
    "path2 = inputs\n",
    "\n",
    "for block in range(4):  # 4 blocks\n",
    "    for layer in range(3):  # 3 Conv2D → relu → BN\n",
    "        path1 = Conv2D(64, (3, 3), padding='same', strides=1,)(path1)\n",
    "        path1 = Activation('relu')(path1)\n",
    "        path1 = BatchNormalization()(path1)\n",
    "    path1 = MaxPooling2D(pool_size=(2, 2), strides=2)(path1)\n",
    "    path1 = Dropout(0.3,)(path1)\n",
    "    "
   ],
   "metadata": {
    "collapsed": false,
    "ExecuteTime": {
     "end_time": "2024-05-01T17:43:29.923941Z",
     "start_time": "2024-05-01T17:43:28.479932800Z"
    }
   },
   "execution_count": 5
  },
  {
   "cell_type": "code",
   "outputs": [],
   "source": [
    "#path2\n",
    "\n",
    "# First convolutional layer\n",
    "path2 = Conv2D(64, (3, 3), padding='same')(path2)\n",
    "activation1 = Activation('relu')(path2)\n",
    "path2 = MaxPooling2D(pool_size=(4, 4))(path2)\n",
    "path2 = Conv2D(64, (3, 3), padding='same')(path2)\n",
    "path2 = Activation('relu')(path2)\n",
    "path2 = MaxPooling2D(pool_size=(4, 4))(path2)\n",
    "path2 = Dropout(0.25)(path2)"
   ],
   "metadata": {
    "collapsed": false,
    "ExecuteTime": {
     "end_time": "2024-05-01T17:43:29.986831500Z",
     "start_time": "2024-05-01T17:43:29.922941300Z"
    }
   },
   "execution_count": 6
  },
  {
   "cell_type": "code",
   "outputs": [
    {
     "name": "stdout",
     "output_type": "stream",
     "text": [
      "Model: \"model\"\n",
      "__________________________________________________________________________________________________\n",
      " Layer (type)                   Output Shape         Param #     Connected to                     \n",
      "==================================================================================================\n",
      " input_1 (InputLayer)           [(None, 32, 32, 3)]  0           []                               \n",
      "                                                                                                  \n",
      " conv2d (Conv2D)                (None, 32, 32, 64)   1792        ['input_1[0][0]']                \n",
      "                                                                                                  \n",
      " activation (Activation)        (None, 32, 32, 64)   0           ['conv2d[0][0]']                 \n",
      "                                                                                                  \n",
      " batch_normalization (BatchNorm  (None, 32, 32, 64)  256         ['activation[0][0]']             \n",
      " alization)                                                                                       \n",
      "                                                                                                  \n",
      " conv2d_1 (Conv2D)              (None, 32, 32, 64)   36928       ['batch_normalization[0][0]']    \n",
      "                                                                                                  \n",
      " activation_1 (Activation)      (None, 32, 32, 64)   0           ['conv2d_1[0][0]']               \n",
      "                                                                                                  \n",
      " batch_normalization_1 (BatchNo  (None, 32, 32, 64)  256         ['activation_1[0][0]']           \n",
      " rmalization)                                                                                     \n",
      "                                                                                                  \n",
      " conv2d_2 (Conv2D)              (None, 32, 32, 64)   36928       ['batch_normalization_1[0][0]']  \n",
      "                                                                                                  \n",
      " activation_2 (Activation)      (None, 32, 32, 64)   0           ['conv2d_2[0][0]']               \n",
      "                                                                                                  \n",
      " batch_normalization_2 (BatchNo  (None, 32, 32, 64)  256         ['activation_2[0][0]']           \n",
      " rmalization)                                                                                     \n",
      "                                                                                                  \n",
      " max_pooling2d (MaxPooling2D)   (None, 16, 16, 64)   0           ['batch_normalization_2[0][0]']  \n",
      "                                                                                                  \n",
      " dropout (Dropout)              (None, 16, 16, 64)   0           ['max_pooling2d[0][0]']          \n",
      "                                                                                                  \n",
      " conv2d_3 (Conv2D)              (None, 16, 16, 64)   36928       ['dropout[0][0]']                \n",
      "                                                                                                  \n",
      " activation_3 (Activation)      (None, 16, 16, 64)   0           ['conv2d_3[0][0]']               \n",
      "                                                                                                  \n",
      " batch_normalization_3 (BatchNo  (None, 16, 16, 64)  256         ['activation_3[0][0]']           \n",
      " rmalization)                                                                                     \n",
      "                                                                                                  \n",
      " conv2d_4 (Conv2D)              (None, 16, 16, 64)   36928       ['batch_normalization_3[0][0]']  \n",
      "                                                                                                  \n",
      " activation_4 (Activation)      (None, 16, 16, 64)   0           ['conv2d_4[0][0]']               \n",
      "                                                                                                  \n",
      " batch_normalization_4 (BatchNo  (None, 16, 16, 64)  256         ['activation_4[0][0]']           \n",
      " rmalization)                                                                                     \n",
      "                                                                                                  \n",
      " conv2d_5 (Conv2D)              (None, 16, 16, 64)   36928       ['batch_normalization_4[0][0]']  \n",
      "                                                                                                  \n",
      " activation_5 (Activation)      (None, 16, 16, 64)   0           ['conv2d_5[0][0]']               \n",
      "                                                                                                  \n",
      " batch_normalization_5 (BatchNo  (None, 16, 16, 64)  256         ['activation_5[0][0]']           \n",
      " rmalization)                                                                                     \n",
      "                                                                                                  \n",
      " max_pooling2d_1 (MaxPooling2D)  (None, 8, 8, 64)    0           ['batch_normalization_5[0][0]']  \n",
      "                                                                                                  \n",
      " dropout_1 (Dropout)            (None, 8, 8, 64)     0           ['max_pooling2d_1[0][0]']        \n",
      "                                                                                                  \n",
      " conv2d_6 (Conv2D)              (None, 8, 8, 64)     36928       ['dropout_1[0][0]']              \n",
      "                                                                                                  \n",
      " activation_6 (Activation)      (None, 8, 8, 64)     0           ['conv2d_6[0][0]']               \n",
      "                                                                                                  \n",
      " batch_normalization_6 (BatchNo  (None, 8, 8, 64)    256         ['activation_6[0][0]']           \n",
      " rmalization)                                                                                     \n",
      "                                                                                                  \n",
      " conv2d_7 (Conv2D)              (None, 8, 8, 64)     36928       ['batch_normalization_6[0][0]']  \n",
      "                                                                                                  \n",
      " activation_7 (Activation)      (None, 8, 8, 64)     0           ['conv2d_7[0][0]']               \n",
      "                                                                                                  \n",
      " batch_normalization_7 (BatchNo  (None, 8, 8, 64)    256         ['activation_7[0][0]']           \n",
      " rmalization)                                                                                     \n",
      "                                                                                                  \n",
      " conv2d_8 (Conv2D)              (None, 8, 8, 64)     36928       ['batch_normalization_7[0][0]']  \n",
      "                                                                                                  \n",
      " activation_8 (Activation)      (None, 8, 8, 64)     0           ['conv2d_8[0][0]']               \n",
      "                                                                                                  \n",
      " batch_normalization_8 (BatchNo  (None, 8, 8, 64)    256         ['activation_8[0][0]']           \n",
      " rmalization)                                                                                     \n",
      "                                                                                                  \n",
      " max_pooling2d_2 (MaxPooling2D)  (None, 4, 4, 64)    0           ['batch_normalization_8[0][0]']  \n",
      "                                                                                                  \n",
      " dropout_2 (Dropout)            (None, 4, 4, 64)     0           ['max_pooling2d_2[0][0]']        \n",
      "                                                                                                  \n",
      " conv2d_9 (Conv2D)              (None, 4, 4, 64)     36928       ['dropout_2[0][0]']              \n",
      "                                                                                                  \n",
      " activation_9 (Activation)      (None, 4, 4, 64)     0           ['conv2d_9[0][0]']               \n",
      "                                                                                                  \n",
      " batch_normalization_9 (BatchNo  (None, 4, 4, 64)    256         ['activation_9[0][0]']           \n",
      " rmalization)                                                                                     \n",
      "                                                                                                  \n",
      " conv2d_10 (Conv2D)             (None, 4, 4, 64)     36928       ['batch_normalization_9[0][0]']  \n",
      "                                                                                                  \n",
      " activation_10 (Activation)     (None, 4, 4, 64)     0           ['conv2d_10[0][0]']              \n",
      "                                                                                                  \n",
      " batch_normalization_10 (BatchN  (None, 4, 4, 64)    256         ['activation_10[0][0]']          \n",
      " ormalization)                                                                                    \n",
      "                                                                                                  \n",
      " conv2d_12 (Conv2D)             (None, 32, 32, 64)   1792        ['input_1[0][0]']                \n",
      "                                                                                                  \n",
      " conv2d_11 (Conv2D)             (None, 4, 4, 64)     36928       ['batch_normalization_10[0][0]'] \n",
      "                                                                                                  \n",
      " max_pooling2d_4 (MaxPooling2D)  (None, 8, 8, 64)    0           ['conv2d_12[0][0]']              \n",
      "                                                                                                  \n",
      " activation_11 (Activation)     (None, 4, 4, 64)     0           ['conv2d_11[0][0]']              \n",
      "                                                                                                  \n",
      " conv2d_13 (Conv2D)             (None, 8, 8, 64)     36928       ['max_pooling2d_4[0][0]']        \n",
      "                                                                                                  \n",
      " batch_normalization_11 (BatchN  (None, 4, 4, 64)    256         ['activation_11[0][0]']          \n",
      " ormalization)                                                                                    \n",
      "                                                                                                  \n",
      " activation_13 (Activation)     (None, 8, 8, 64)     0           ['conv2d_13[0][0]']              \n",
      "                                                                                                  \n",
      " max_pooling2d_3 (MaxPooling2D)  (None, 2, 2, 64)    0           ['batch_normalization_11[0][0]'] \n",
      "                                                                                                  \n",
      " max_pooling2d_5 (MaxPooling2D)  (None, 2, 2, 64)    0           ['activation_13[0][0]']          \n",
      "                                                                                                  \n",
      " dropout_3 (Dropout)            (None, 2, 2, 64)     0           ['max_pooling2d_3[0][0]']        \n",
      "                                                                                                  \n",
      " dropout_4 (Dropout)            (None, 2, 2, 64)     0           ['max_pooling2d_5[0][0]']        \n",
      "                                                                                                  \n",
      " concatenate (Concatenate)      (None, 2, 2, 128)    0           ['dropout_3[0][0]',              \n",
      "                                                                  'dropout_4[0][0]']              \n",
      "                                                                                                  \n",
      " flatten (Flatten)              (None, 512)          0           ['concatenate[0][0]']            \n",
      "                                                                                                  \n",
      " dense_1 (Dense)                (None, 256)          131328      ['flatten[0][0]']                \n",
      "                                                                                                  \n",
      " dropout_final (Dropout)        (None, 256)          0           ['dense_1[0][0]']                \n",
      "                                                                                                  \n",
      " outputs (Dense)                (None, 10)           2570        ['dropout_final[0][0]']          \n",
      "                                                                                                  \n",
      "==================================================================================================\n",
      "Total params: 583,690\n",
      "Trainable params: 582,154\n",
      "Non-trainable params: 1,536\n",
      "__________________________________________________________________________________________________\n"
     ]
    }
   ],
   "source": [
    "\n",
    "#concatenate\n",
    "concatenate = concatenate([path1, path2], axis=-1)\n",
    "\n",
    "flatten = Flatten(name='flatten')(concatenate)\n",
    "dense = Dense(256, activation='relu', name='dense_1')(flatten)\n",
    "dropout = Dropout(0.3, name='dropout_final')(dense)\n",
    "\n",
    "outputs = Dense(n_classes, activation='softmax', name='outputs')(dropout)\n",
    "\n",
    "model = Model(inputs, outputs)\n",
    "\n",
    "model.compile(optimizer=Adam(learning_rate=0.001),\n",
    "              loss='categorical_crossentropy',\n",
    "              metrics=['accuracy'])\n",
    "\n",
    "model.summary()"
   ],
   "metadata": {
    "colab": {
     "base_uri": "https://localhost:8080/"
    },
    "id": "3Wju2m4LU6Bd",
    "outputId": "53702cbf-baaf-4923-951d-4a4f84c0d91f",
    "ExecuteTime": {
     "end_time": "2024-05-01T17:43:30.179026400Z",
     "start_time": "2024-05-01T17:43:29.989847300Z"
    }
   },
   "execution_count": 7
  },
  {
   "cell_type": "markdown",
   "source": [
    "### Train model"
   ],
   "metadata": {
    "collapsed": false
   }
  },
  {
   "cell_type": "code",
   "outputs": [
    {
     "name": "stdout",
     "output_type": "stream",
     "text": [
      "Epoch 1/10\n",
      "782/782 [==============================] - ETA: 0s - loss: 1.6712 - accuracy: 0.3882\n",
      "Epoch 1: val_accuracy improved from -inf to 0.50530, saving model to best_model_c.h5\n",
      "782/782 [==============================] - 37s 43ms/step - loss: 1.6712 - accuracy: 0.3882 - val_loss: 1.3553 - val_accuracy: 0.5053\n",
      "Epoch 2/10\n",
      "781/782 [============================>.] - ETA: 0s - loss: 1.1596 - accuracy: 0.5864\n",
      "Epoch 2: val_accuracy improved from 0.50530 to 0.62340, saving model to best_model_c.h5\n",
      "782/782 [==============================] - 69s 88ms/step - loss: 1.1597 - accuracy: 0.5864 - val_loss: 1.0667 - val_accuracy: 0.6234\n",
      "Epoch 3/10\n",
      "781/782 [============================>.] - ETA: 0s - loss: 0.9325 - accuracy: 0.6746\n",
      "Epoch 3: val_accuracy improved from 0.62340 to 0.64100, saving model to best_model_c.h5\n",
      "782/782 [==============================] - 69s 88ms/step - loss: 0.9324 - accuracy: 0.6746 - val_loss: 1.0505 - val_accuracy: 0.6410\n",
      "Epoch 4/10\n",
      "781/782 [============================>.] - ETA: 0s - loss: 0.8021 - accuracy: 0.7228\n",
      "Epoch 4: val_accuracy improved from 0.64100 to 0.70890, saving model to best_model_c.h5\n",
      "782/782 [==============================] - 69s 88ms/step - loss: 0.8022 - accuracy: 0.7227 - val_loss: 0.8350 - val_accuracy: 0.7089\n",
      "Epoch 5/10\n",
      "781/782 [============================>.] - ETA: 0s - loss: 0.7106 - accuracy: 0.7552\n",
      "Epoch 5: val_accuracy improved from 0.70890 to 0.74790, saving model to best_model_c.h5\n",
      "782/782 [==============================] - 69s 88ms/step - loss: 0.7106 - accuracy: 0.7552 - val_loss: 0.7272 - val_accuracy: 0.7479\n",
      "Epoch 6/10\n",
      "781/782 [============================>.] - ETA: 0s - loss: 0.6437 - accuracy: 0.7802\n",
      "Epoch 6: val_accuracy improved from 0.74790 to 0.77150, saving model to best_model_c.h5\n",
      "782/782 [==============================] - 69s 88ms/step - loss: 0.6438 - accuracy: 0.7802 - val_loss: 0.6691 - val_accuracy: 0.7715\n",
      "Epoch 7/10\n",
      "781/782 [============================>.] - ETA: 0s - loss: 0.5921 - accuracy: 0.7984\n",
      "Epoch 7: val_accuracy improved from 0.77150 to 0.79140, saving model to best_model_c.h5\n",
      "782/782 [==============================] - 69s 88ms/step - loss: 0.5922 - accuracy: 0.7984 - val_loss: 0.6040 - val_accuracy: 0.7914\n",
      "Epoch 8/10\n",
      "781/782 [============================>.] - ETA: 0s - loss: 0.5497 - accuracy: 0.8126\n",
      "Epoch 8: val_accuracy did not improve from 0.79140\n",
      "782/782 [==============================] - 40s 51ms/step - loss: 0.5497 - accuracy: 0.8127 - val_loss: 0.6792 - val_accuracy: 0.7753\n",
      "Epoch 9/10\n",
      "781/782 [============================>.] - ETA: 0s - loss: 0.5115 - accuracy: 0.8282\n",
      "Epoch 9: val_accuracy improved from 0.79140 to 0.81840, saving model to best_model_c.h5\n",
      "782/782 [==============================] - 23s 29ms/step - loss: 0.5115 - accuracy: 0.8282 - val_loss: 0.5444 - val_accuracy: 0.8184\n",
      "Epoch 10/10\n",
      "781/782 [============================>.] - ETA: 0s - loss: 0.4769 - accuracy: 0.8392\n",
      "Epoch 10: val_accuracy improved from 0.81840 to 0.82240, saving model to best_model_c.h5\n",
      "782/782 [==============================] - 38s 48ms/step - loss: 0.4770 - accuracy: 0.8392 - val_loss: 0.5250 - val_accuracy: 0.8224\n"
     ]
    }
   ],
   "source": [
    "E = 10  # number of epochs\n",
    "B = 64  # batch size\n",
    "V = 0.2  # validation split\n",
    "\n",
    "checkpoint_callback = ModelCheckpoint(\n",
    "    'best_model_c.h5',\n",
    "    monitor='val_accuracy',\n",
    "    save_best_only=True,\n",
    "    verbose=1\n",
    ")\n",
    "\n",
    "log = model.fit(X_train, Y_train, batch_size=B, epochs=E,\n",
    "                verbose=1, validation_data=(X_test, Y_test), callbacks=[checkpoint_callback])"
   ],
   "metadata": {
    "collapsed": false,
    "ExecuteTime": {
     "end_time": "2024-05-01T17:52:41.102675100Z",
     "start_time": "2024-05-01T17:43:30.175026200Z"
    }
   },
   "execution_count": 8
  },
  {
   "cell_type": "markdown",
   "source": [
    "### Evaluate model"
   ],
   "metadata": {
    "collapsed": false
   }
  },
  {
   "cell_type": "code",
   "outputs": [
    {
     "data": {
      "text/plain": "<Figure size 1200x400 with 2 Axes>",
      "image/png": "[encoded data removed]"
     },
     "metadata": {},
     "output_type": "display_data"
    }
   ],
   "source": [
    "f = plt.figure(figsize=(12, 4))\n",
    "ax1 = f.add_subplot(121)\n",
    "ax2 = f.add_subplot(122)\n",
    "ax1.plot(log.history['loss'], label='Training loss')\n",
    "ax1.plot(log.history['val_loss'], label='Testing loss')\n",
    "ax1.legend()\n",
    "ax1.grid()\n",
    "ax2.plot(log.history['accuracy'], label='Training acc')\n",
    "ax2.plot(log.history['val_accuracy'], label='Testing acc')\n",
    "ax2.legend()\n",
    "ax2.grid()"
   ],
   "metadata": {
    "collapsed": false,
    "ExecuteTime": {
     "end_time": "2024-05-01T17:52:41.536180100Z",
     "start_time": "2024-05-01T17:52:41.105672600Z"
    }
   },
   "execution_count": 9
  },
  {
   "cell_type": "code",
   "outputs": [
    {
     "name": "stdout",
     "output_type": "stream",
     "text": [
      "Train accuracy : 0.8392199873924255\n",
      "Test accuracy: 0.8223999738693237\n"
     ]
    }
   ],
   "source": [
    "train_acc = log.history[\"accuracy\"]\n",
    "loss_test, metric_test = model.evaluate(X_test, Y_test, verbose=0)\n",
    "print(f'Train accuracy : {train_acc[-1]}')\n",
    "print('Test accuracy:', metric_test)"
   ],
   "metadata": {
    "collapsed": false,
    "ExecuteTime": {
     "end_time": "2024-05-01T17:52:46.553944700Z",
     "start_time": "2024-05-01T17:52:41.538180200Z"
    }
   },
   "execution_count": 10
  }
 ],
 "metadata": {
  "accelerator": "GPU",
  "colab": {
   "gpuType": "T4",
   "provenance": []
  },
  "kernelspec": {
   "name": "python3",
   "language": "python",
   "display_name": "Python 3 (ipykernel)"
  },
  "language_info": {
   "name": "python"
  }
 },
 "nbformat": 4,
 "nbformat_minor": 0
}
